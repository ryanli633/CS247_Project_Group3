{
 "cells": [
  {
   "cell_type": "markdown",
   "metadata": {
    "id": "FbE8dVyX2nxN"
   },
   "source": [
    "# Two Stage Recommender System Testing\n",
    "*CS247 Project Winter 2022 - Ryan Li, Osama Hassen, Sam Anderson*"
   ]
  },
  {
   "cell_type": "markdown",
   "metadata": {
    "id": "PT9SSZyJ200R"
   },
   "source": [
    "## Recommender Systems on MovieLens 1M Dataset"
   ]
  },
  {
   "cell_type": "markdown",
   "metadata": {
    "id": "RejRaxic9ATq"
   },
   "source": [
    "### Loading and Formatting the Dataset"
   ]
  },
  {
   "cell_type": "code",
   "execution_count": 1,
   "metadata": {
    "colab": {
     "base_uri": "https://localhost:8080/",
     "height": 17
    },
    "id": "ITZMDBucw_2j",
    "outputId": "46e16bdd-890d-4ff0-bc1c-b09c0ee585ca"
   },
   "outputs": [
    {
     "data": {
      "text/html": [
       "        <script type=\"text/javascript\">\n",
       "        window.PlotlyConfig = {MathJaxConfig: 'local'};\n",
       "        if (window.MathJax) {MathJax.Hub.Config({SVG: {font: \"STIX-Web\"}});}\n",
       "        if (typeof require !== 'undefined') {\n",
       "        require.undef(\"plotly\");\n",
       "        requirejs.config({\n",
       "            paths: {\n",
       "                'plotly': ['https://cdn.plot.ly/plotly-2.9.0.min']\n",
       "            }\n",
       "        });\n",
       "        require(['plotly'], function(Plotly) {\n",
       "            window._Plotly = Plotly;\n",
       "        });\n",
       "        }\n",
       "        </script>\n",
       "        "
      ]
     },
     "metadata": {},
     "output_type": "display_data"
    }
   ],
   "source": [
    "#primary source: https://www.kaggle.com/scratchpad/notebookbdf4340e3d/edit\n",
    "import numpy as np # linear algebra\n",
    "import pandas as pd # data processing, CSV file I/O (e.g. pd.read_csv)\n",
    "import matplotlib.pyplot as plt\n",
    "import seaborn as sns\n",
    "import os\n",
    "import re\n",
    "\n",
    "from plotly.offline import init_notebook_mode, iplot\n",
    "import plotly.graph_objs as go\n",
    "import plotly.offline as py\n",
    "py.init_notebook_mode(connected=True)\n",
    "\n",
    "import warnings\n",
    "warnings.filterwarnings('ignore')\n",
    "\n",
    "plt.style.use('fivethirtyeight')\n",
    "plt.rcParams['figure.figsize'] = [18, 8]"
   ]
  },
  {
   "cell_type": "code",
   "execution_count": 2,
   "metadata": {
    "colab": {
     "base_uri": "https://localhost:8080/"
    },
    "id": "RG5U6ljQ41pH",
    "outputId": "158e0358-0c32-4c14-af79-a157da141661"
   },
   "outputs": [
    {
     "name": "stdout",
     "output_type": "stream",
     "text": [
      "--2022-03-08 22:50:28--  https://files.grouplens.org/datasets/movielens/ml-1m.zip\n",
      "Resolving files.grouplens.org (files.grouplens.org)... 128.101.65.152\n",
      "Connecting to files.grouplens.org (files.grouplens.org)|128.101.65.152|:443... connected.\n",
      "HTTP request sent, awaiting response... 200 OK\n",
      "Length: 5917549 (5.6M) [application/zip]\n",
      "Saving to: ‘ml-1m.zip.1’\n",
      "\n",
      "ml-1m.zip.1         100%[===================>]   5.64M  1.12MB/s    in 8.0s    \n",
      "\n",
      "2022-03-08 22:50:37 (726 KB/s) - ‘ml-1m.zip.1’ saved [5917549/5917549]\n",
      "\n"
     ]
    }
   ],
   "source": [
    "#Load m1-1m dataset into Colab\n",
    "!wget https://files.grouplens.org/datasets/movielens/ml-1m.zip\n",
    "#!unzip ml-1m.zip      #this works in colab but not windows/jupyter\n",
    "\n",
    "#Use this for windows/jupyter to unzip\n",
    "import zipfile\n",
    "with zipfile.ZipFile(\"ml-1m.zip\", \"r\") as zip_ref:\n",
    "    zip_ref.extractall()"
   ]
  },
  {
   "cell_type": "code",
   "execution_count": 13,
   "metadata": {
    "colab": {
     "base_uri": "https://localhost:8080/"
    },
    "id": "r-iiDtW42Xa4",
    "outputId": "35a1252f-cc16-4295-8d58-d44c75e94e1f"
   },
   "outputs": [
    {
     "name": "stdout",
     "output_type": "stream",
     "text": [
      "Reviews shape: (1000209, 4)\n",
      "Users shape: (6040, 5)\n",
      "Movies shape: (3883, 3)\n"
     ]
    }
   ],
   "source": [
    "#extract data into dataframes\n",
    "reviews = pd.read_csv('ml-1m/ratings.dat', names=['userId', 'movieId', 'rating', 'time'], delimiter='::', engine='python', encoding=\"iso-8859-1\")\n",
    "movies = pd.read_csv('ml-1m/movies.dat', names=['movieId', 'movie_names', 'genres'], delimiter='::', engine='python', encoding=\"iso-8859-1\")\n",
    "users = pd.read_csv('ml-1m/users.dat', names=['userId', 'gender', 'age', 'occupation', 'zip'], delimiter='::', engine='python', encoding=\"iso-8859-1\")\n",
    "\n",
    "print('Reviews shape:', reviews.shape)\n",
    "print('Users shape:', users.shape)\n",
    "print('Movies shape:', movies.shape)\n",
    "\n"
   ]
  },
  {
   "cell_type": "code",
   "execution_count": 14,
   "metadata": {
    "colab": {
     "base_uri": "https://localhost:8080/",
     "height": 441
    },
    "id": "KlMPugEc8aLD",
    "outputId": "b148ee48-fbc7-488d-ad53-1e9b6376c04b"
   },
   "outputs": [
    {
     "name": "stdout",
     "output_type": "stream",
     "text": [
      "final_df shape: (1000209, 9)\n"
     ]
    },
    {
     "data": {
      "text/html": [
       "<div>\n",
       "<style scoped>\n",
       "    .dataframe tbody tr th:only-of-type {\n",
       "        vertical-align: middle;\n",
       "    }\n",
       "\n",
       "    .dataframe tbody tr th {\n",
       "        vertical-align: top;\n",
       "    }\n",
       "\n",
       "    .dataframe thead th {\n",
       "        text-align: right;\n",
       "    }\n",
       "</style>\n",
       "<table border=\"1\" class=\"dataframe\">\n",
       "  <thead>\n",
       "    <tr style=\"text-align: right;\">\n",
       "      <th></th>\n",
       "      <th>userId</th>\n",
       "      <th>movieId</th>\n",
       "      <th>rating</th>\n",
       "      <th>movie_names</th>\n",
       "      <th>genres</th>\n",
       "      <th>release_year</th>\n",
       "      <th>gender</th>\n",
       "      <th>age</th>\n",
       "      <th>occupation</th>\n",
       "    </tr>\n",
       "  </thead>\n",
       "  <tbody>\n",
       "    <tr>\n",
       "      <th>0</th>\n",
       "      <td>1</td>\n",
       "      <td>1193</td>\n",
       "      <td>5</td>\n",
       "      <td>One Flew Over the Cuckoo's Nest (1975)</td>\n",
       "      <td>Drama</td>\n",
       "      <td>1975</td>\n",
       "      <td>Female</td>\n",
       "      <td>Under 18</td>\n",
       "      <td>K-12 student</td>\n",
       "    </tr>\n",
       "    <tr>\n",
       "      <th>1</th>\n",
       "      <td>1</td>\n",
       "      <td>661</td>\n",
       "      <td>3</td>\n",
       "      <td>James and the Giant Peach (1996)</td>\n",
       "      <td>Animation|Children's|Musical</td>\n",
       "      <td>1996</td>\n",
       "      <td>Female</td>\n",
       "      <td>Under 18</td>\n",
       "      <td>K-12 student</td>\n",
       "    </tr>\n",
       "    <tr>\n",
       "      <th>2</th>\n",
       "      <td>1</td>\n",
       "      <td>914</td>\n",
       "      <td>3</td>\n",
       "      <td>My Fair Lady (1964)</td>\n",
       "      <td>Musical|Romance</td>\n",
       "      <td>1964</td>\n",
       "      <td>Female</td>\n",
       "      <td>Under 18</td>\n",
       "      <td>K-12 student</td>\n",
       "    </tr>\n",
       "    <tr>\n",
       "      <th>3</th>\n",
       "      <td>1</td>\n",
       "      <td>3408</td>\n",
       "      <td>4</td>\n",
       "      <td>Erin Brockovich (2000)</td>\n",
       "      <td>Drama</td>\n",
       "      <td>2000</td>\n",
       "      <td>Female</td>\n",
       "      <td>Under 18</td>\n",
       "      <td>K-12 student</td>\n",
       "    </tr>\n",
       "    <tr>\n",
       "      <th>4</th>\n",
       "      <td>1</td>\n",
       "      <td>2355</td>\n",
       "      <td>5</td>\n",
       "      <td>Bug's Life, A (1998)</td>\n",
       "      <td>Animation|Children's|Comedy</td>\n",
       "      <td>1998</td>\n",
       "      <td>Female</td>\n",
       "      <td>Under 18</td>\n",
       "      <td>K-12 student</td>\n",
       "    </tr>\n",
       "    <tr>\n",
       "      <th>...</th>\n",
       "      <td>...</td>\n",
       "      <td>...</td>\n",
       "      <td>...</td>\n",
       "      <td>...</td>\n",
       "      <td>...</td>\n",
       "      <td>...</td>\n",
       "      <td>...</td>\n",
       "      <td>...</td>\n",
       "      <td>...</td>\n",
       "    </tr>\n",
       "    <tr>\n",
       "      <th>1000204</th>\n",
       "      <td>6040</td>\n",
       "      <td>1091</td>\n",
       "      <td>1</td>\n",
       "      <td>Weekend at Bernie's (1989)</td>\n",
       "      <td>Comedy</td>\n",
       "      <td>1989</td>\n",
       "      <td>Male</td>\n",
       "      <td>25 - 34</td>\n",
       "      <td>Doctor / Health Care</td>\n",
       "    </tr>\n",
       "    <tr>\n",
       "      <th>1000205</th>\n",
       "      <td>6040</td>\n",
       "      <td>1094</td>\n",
       "      <td>5</td>\n",
       "      <td>Crying Game, The (1992)</td>\n",
       "      <td>Drama|Romance|War</td>\n",
       "      <td>1992</td>\n",
       "      <td>Male</td>\n",
       "      <td>25 - 34</td>\n",
       "      <td>Doctor / Health Care</td>\n",
       "    </tr>\n",
       "    <tr>\n",
       "      <th>1000206</th>\n",
       "      <td>6040</td>\n",
       "      <td>562</td>\n",
       "      <td>5</td>\n",
       "      <td>Welcome to the Dollhouse (1995)</td>\n",
       "      <td>Comedy|Drama</td>\n",
       "      <td>1995</td>\n",
       "      <td>Male</td>\n",
       "      <td>25 - 34</td>\n",
       "      <td>Doctor / Health Care</td>\n",
       "    </tr>\n",
       "    <tr>\n",
       "      <th>1000207</th>\n",
       "      <td>6040</td>\n",
       "      <td>1096</td>\n",
       "      <td>4</td>\n",
       "      <td>Sophie's Choice (1982)</td>\n",
       "      <td>Drama</td>\n",
       "      <td>1982</td>\n",
       "      <td>Male</td>\n",
       "      <td>25 - 34</td>\n",
       "      <td>Doctor / Health Care</td>\n",
       "    </tr>\n",
       "    <tr>\n",
       "      <th>1000208</th>\n",
       "      <td>6040</td>\n",
       "      <td>1097</td>\n",
       "      <td>4</td>\n",
       "      <td>E.T. the Extra-Terrestrial (1982)</td>\n",
       "      <td>Children's|Drama|Fantasy|Sci-Fi</td>\n",
       "      <td>1982</td>\n",
       "      <td>Male</td>\n",
       "      <td>25 - 34</td>\n",
       "      <td>Doctor / Health Care</td>\n",
       "    </tr>\n",
       "  </tbody>\n",
       "</table>\n",
       "<p>1000209 rows × 9 columns</p>\n",
       "</div>"
      ],
      "text/plain": [
       "         userId  movieId  rating                             movie_names  \\\n",
       "0             1     1193       5  One Flew Over the Cuckoo's Nest (1975)   \n",
       "1             1      661       3        James and the Giant Peach (1996)   \n",
       "2             1      914       3                     My Fair Lady (1964)   \n",
       "3             1     3408       4                  Erin Brockovich (2000)   \n",
       "4             1     2355       5                    Bug's Life, A (1998)   \n",
       "...         ...      ...     ...                                     ...   \n",
       "1000204    6040     1091       1              Weekend at Bernie's (1989)   \n",
       "1000205    6040     1094       5                 Crying Game, The (1992)   \n",
       "1000206    6040      562       5         Welcome to the Dollhouse (1995)   \n",
       "1000207    6040     1096       4                  Sophie's Choice (1982)   \n",
       "1000208    6040     1097       4       E.T. the Extra-Terrestrial (1982)   \n",
       "\n",
       "                                  genres release_year  gender       age  \\\n",
       "0                                  Drama         1975  Female  Under 18   \n",
       "1           Animation|Children's|Musical         1996  Female  Under 18   \n",
       "2                        Musical|Romance         1964  Female  Under 18   \n",
       "3                                  Drama         2000  Female  Under 18   \n",
       "4            Animation|Children's|Comedy         1998  Female  Under 18   \n",
       "...                                  ...          ...     ...       ...   \n",
       "1000204                           Comedy         1989    Male   25 - 34   \n",
       "1000205                Drama|Romance|War         1992    Male   25 - 34   \n",
       "1000206                     Comedy|Drama         1995    Male   25 - 34   \n",
       "1000207                            Drama         1982    Male   25 - 34   \n",
       "1000208  Children's|Drama|Fantasy|Sci-Fi         1982    Male   25 - 34   \n",
       "\n",
       "                   occupation  \n",
       "0                K-12 student  \n",
       "1                K-12 student  \n",
       "2                K-12 student  \n",
       "3                K-12 student  \n",
       "4                K-12 student  \n",
       "...                       ...  \n",
       "1000204  Doctor / Health Care  \n",
       "1000205  Doctor / Health Care  \n",
       "1000206  Doctor / Health Care  \n",
       "1000207  Doctor / Health Care  \n",
       "1000208  Doctor / Health Care  \n",
       "\n",
       "[1000209 rows x 9 columns]"
      ]
     },
     "execution_count": 14,
     "metadata": {},
     "output_type": "execute_result"
    }
   ],
   "source": [
    "#reformat the dataset to retain/enhance useful features then merge the tables\n",
    "\n",
    "reviews.drop(['time'], axis=1, inplace=True)\n",
    "users.drop(['zip'], axis=1, inplace=True)\n",
    "\n",
    "movies['release_year'] = movies['movie_names'].str.extract(r'(?:\\((\\d{4})\\))?\\s*$', expand=False)\n",
    "\n",
    "ages_map = {1: 'Under 18',\n",
    "            18: '18 - 24',\n",
    "            25: '25 - 34',\n",
    "            35: '35 - 44',\n",
    "            45: '45 - 49',\n",
    "            50: '50 - 55',\n",
    "            56: '56+'}\n",
    "\n",
    "occupations_map = {0: 'Not specified',\n",
    "                   1: 'Academic / Educator',\n",
    "                   2: 'Artist',\n",
    "                   3: 'Clerical / Admin',\n",
    "                   4: 'College / Grad Student',\n",
    "                   5: 'Customer Service',\n",
    "                   6: 'Doctor / Health Care',\n",
    "                   7: 'Executive / Managerial',\n",
    "                   8: 'Farmer',\n",
    "                   9: 'Homemaker',\n",
    "                   10: 'K-12 student',\n",
    "                   11: 'Lawyer',\n",
    "                   12: 'Programmer',\n",
    "                   13: 'Retired',\n",
    "                   14: 'Sales / Marketing',\n",
    "                   15: 'Scientist',\n",
    "                   16: 'Self-Employed',\n",
    "                   17: 'Technician / Engineer',\n",
    "                   18: 'Tradesman / Craftsman',\n",
    "                   19: 'Unemployed',\n",
    "                   20: 'Writer'}\n",
    "\n",
    "gender_map = {'M': 'Male', 'F': 'Female'}\n",
    "\n",
    "users['age'] = users['age'].map(ages_map)\n",
    "users['occupation'] = users['occupation'].map(occupations_map)\n",
    "users['gender'] = users['gender'].map(gender_map)\n",
    "\n",
    "final_df = reviews.merge(movies, on='movieId', how='left').merge(users, on='userId', how='left')\n",
    "\n",
    "print('final_df shape:', final_df.shape)\n",
    "final_df"
   ]
  },
  {
   "cell_type": "code",
   "execution_count": 11,
   "metadata": {
    "colab": {
     "base_uri": "https://localhost:8080/"
    },
    "id": "RtTK0DZd8-QM",
    "outputId": "769f60e1-b41a-436a-ead8-4b8f98d68694"
   },
   "outputs": [
    {
     "name": "stdout",
     "output_type": "stream",
     "text": [
      "Number of users: 6040\n",
      "Number of movies: 3706\n"
     ]
    }
   ],
   "source": [
    "n_users = final_df['userId'].nunique()\n",
    "n_movies = final_df['movieId'].nunique()\n",
    "\n",
    "print('Number of users:', n_users)\n",
    "print('Number of movies:', n_movies)"
   ]
  },
  {
   "cell_type": "code",
   "execution_count": 36,
   "metadata": {
    "id": "36m_Lxo39ddz"
   },
   "outputs": [],
   "source": [
    "final_df_matrix = final_df.pivot(index='userId',\n",
    "                                 columns='movieId',\n",
    "                                 values='rating').fillna(0)"
   ]
  },
  {
   "cell_type": "code",
   "execution_count": 37,
   "metadata": {
    "id": "5XIe8T9A9iNR"
   },
   "outputs": [],
   "source": [
    "#save final_df to csv for nominators\n",
    "final_df.to_csv('final_df')\n"
   ]
  },
  {
   "cell_type": "markdown",
   "metadata": {
    "id": "z6z-6OxZWkY4"
   },
   "source": [
    "### Begin Nominator Stage - SVD Nominators\n",
    "#### (1) Generate n nominator dfs from full dataset"
   ]
  },
  {
   "cell_type": "code",
   "execution_count": 2,
   "metadata": {
    "id": "zDeg5S4oWkY5",
    "outputId": "93ac5c9d-d811-4377-f540-10ae72745ed3"
   },
   "outputs": [
    {
     "data": {
      "text/html": [
       "<div>\n",
       "<style scoped>\n",
       "    .dataframe tbody tr th:only-of-type {\n",
       "        vertical-align: middle;\n",
       "    }\n",
       "\n",
       "    .dataframe tbody tr th {\n",
       "        vertical-align: top;\n",
       "    }\n",
       "\n",
       "    .dataframe thead th {\n",
       "        text-align: right;\n",
       "    }\n",
       "</style>\n",
       "<table border=\"1\" class=\"dataframe\">\n",
       "  <thead>\n",
       "    <tr style=\"text-align: right;\">\n",
       "      <th></th>\n",
       "      <th>userId</th>\n",
       "      <th>movieId</th>\n",
       "      <th>rating</th>\n",
       "      <th>movie_names</th>\n",
       "      <th>genres</th>\n",
       "      <th>release_year</th>\n",
       "      <th>gender</th>\n",
       "      <th>age</th>\n",
       "      <th>occupation</th>\n",
       "    </tr>\n",
       "  </thead>\n",
       "  <tbody>\n",
       "    <tr>\n",
       "      <th>0</th>\n",
       "      <td>1</td>\n",
       "      <td>1193</td>\n",
       "      <td>5</td>\n",
       "      <td>One Flew Over the Cuckoo's Nest (1975)</td>\n",
       "      <td>Drama</td>\n",
       "      <td>1975</td>\n",
       "      <td>Female</td>\n",
       "      <td>Under 18</td>\n",
       "      <td>K-12 student</td>\n",
       "    </tr>\n",
       "    <tr>\n",
       "      <th>1</th>\n",
       "      <td>1</td>\n",
       "      <td>661</td>\n",
       "      <td>3</td>\n",
       "      <td>James and the Giant Peach (1996)</td>\n",
       "      <td>Animation|Children's|Musical</td>\n",
       "      <td>1996</td>\n",
       "      <td>Female</td>\n",
       "      <td>Under 18</td>\n",
       "      <td>K-12 student</td>\n",
       "    </tr>\n",
       "    <tr>\n",
       "      <th>2</th>\n",
       "      <td>1</td>\n",
       "      <td>914</td>\n",
       "      <td>3</td>\n",
       "      <td>My Fair Lady (1964)</td>\n",
       "      <td>Musical|Romance</td>\n",
       "      <td>1964</td>\n",
       "      <td>Female</td>\n",
       "      <td>Under 18</td>\n",
       "      <td>K-12 student</td>\n",
       "    </tr>\n",
       "    <tr>\n",
       "      <th>3</th>\n",
       "      <td>1</td>\n",
       "      <td>3408</td>\n",
       "      <td>4</td>\n",
       "      <td>Erin Brockovich (2000)</td>\n",
       "      <td>Drama</td>\n",
       "      <td>2000</td>\n",
       "      <td>Female</td>\n",
       "      <td>Under 18</td>\n",
       "      <td>K-12 student</td>\n",
       "    </tr>\n",
       "    <tr>\n",
       "      <th>4</th>\n",
       "      <td>1</td>\n",
       "      <td>2355</td>\n",
       "      <td>5</td>\n",
       "      <td>Bug's Life, A (1998)</td>\n",
       "      <td>Animation|Children's|Comedy</td>\n",
       "      <td>1998</td>\n",
       "      <td>Female</td>\n",
       "      <td>Under 18</td>\n",
       "      <td>K-12 student</td>\n",
       "    </tr>\n",
       "  </tbody>\n",
       "</table>\n",
       "</div>"
      ],
      "text/plain": [
       "   userId  movieId  rating                             movie_names  \\\n",
       "0       1     1193       5  One Flew Over the Cuckoo's Nest (1975)   \n",
       "1       1      661       3        James and the Giant Peach (1996)   \n",
       "2       1      914       3                     My Fair Lady (1964)   \n",
       "3       1     3408       4                  Erin Brockovich (2000)   \n",
       "4       1     2355       5                    Bug's Life, A (1998)   \n",
       "\n",
       "                         genres  release_year  gender       age    occupation  \n",
       "0                         Drama          1975  Female  Under 18  K-12 student  \n",
       "1  Animation|Children's|Musical          1996  Female  Under 18  K-12 student  \n",
       "2               Musical|Romance          1964  Female  Under 18  K-12 student  \n",
       "3                         Drama          2000  Female  Under 18  K-12 student  \n",
       "4   Animation|Children's|Comedy          1998  Female  Under 18  K-12 student  "
      ]
     },
     "execution_count": 2,
     "metadata": {},
     "output_type": "execute_result"
    }
   ],
   "source": [
    "final_df = pd.read_csv('./final_df')\n",
    "final_df=final_df.drop(['Unnamed: 0'], axis=1)\n",
    "final_df.head()"
   ]
  },
  {
   "cell_type": "code",
   "execution_count": 4,
   "metadata": {
    "id": "YQzOnnC_WkY6"
   },
   "outputs": [],
   "source": [
    "#enter df of whole dataset, number of nominators, and fraction of sampling\n",
    "#(frac=1/4 means each nominator will randomly sample 25% of the df)\n",
    "#allow for some overlap. n_noms should be > denominator of frac.\n",
    "def nom_sampling(df, n_noms, frac):\n",
    "    nom_dfs = {}\n",
    "    k = 0\n",
    "    while k < n_noms:\n",
    "        # dynamically create key\n",
    "        nom_dfs[k] = df.sample(frac=frac, replace=False, axis=0) \n",
    "        k += 1\n",
    "    print(len(nom_dfs), 'dfs of ', nom_dfs[0].shape[0], 'randomly chosen movies have been created')\n",
    "    return nom_dfs"
   ]
  },
  {
   "cell_type": "code",
   "execution_count": 5,
   "metadata": {
    "id": "0Cea-Dvp9oLl"
   },
   "outputs": [],
   "source": [
    "#!pip install surprise #\n",
    "from surprise import Reader, Dataset, SVD, SVDpp, accuracy"
   ]
  },
  {
   "cell_type": "markdown",
   "metadata": {
    "id": "c_oWGckgWkY8"
   },
   "source": [
    "#### (2) Using dictionaries for the nominators and duplicating the training code for each item as individual functions"
   ]
  },
  {
   "cell_type": "code",
   "execution_count": 6,
   "metadata": {
    "id": "mF7J5O0EWkY8"
   },
   "outputs": [],
   "source": [
    "\n",
    "#fitting nominators\n",
    "def fit_noms(nom_dfs):  #expects dictionary of nominator dfs\n",
    "    reader = Reader(rating_scale=(1, 5))\n",
    "    nom_datasets = {key:Dataset.load_from_df(nom_dfs[key][['userId', 'movieId', 'rating']], reader=reader) for key in nom_dfs}\n",
    "    nom_trainsets = {key:nom_datasets[key].build_full_trainset() for key in nom_datasets}\n",
    "    nom_svds = {key:SVD(n_factors=50, n_epochs=20, random_state=42).fit(nom_trainsets[key]) for key in nom_trainsets}\n",
    "    print(len(nom_dfs), 'nominators have been trained')\n",
    "    return nom_svds  #returns dictionary of trained models\n",
    "\n",
    "\n",
    "def Build_Testset4User(df, u_id):\n",
    "    \n",
    "    global user_id\n",
    "    user_id=u_id\n",
    "    reader = Reader(rating_scale=(1, 5))\n",
    "    dataset = Dataset.load_from_df(df[['userId', 'movieId', 'rating']], reader=reader)\n",
    "    trainset = dataset.build_full_trainset()  #whole dataset is used for trainig\n",
    "    fill = trainset.global_mean\n",
    "    testset = list()\n",
    "    u = trainset.to_inner_uid(user_id)\n",
    "    \n",
    "    # ur == users ratings\n",
    "    user_items = set([item_inner_id for (item_inner_id, rating) in trainset.ur[u]])\n",
    "    \n",
    "    testset += [(trainset.to_raw_uid(u), trainset.to_raw_iid(i), fill) for\n",
    "                            i in trainset.all_items() if i not in user_items]\n",
    "    \n",
    "    return testset\n",
    "\n",
    "#enter testset (from Build_Testset4User), nom_svds (from fit_noms), # items per nominator to be passed to Ranker\n",
    "def Nominator_SVD(testset, nom_knnbls, num_nomin=100):  \n",
    "    nom_predict = {key:nom_svds[key].test(testset) for key in nom_svds}  # we can change to SVD++ later\n",
    "    \n",
    "    nom_recomm, recommendation = [], {}\n",
    "    recommendation = {}\n",
    "    \n",
    "    for key in nom_predict:\n",
    "        for userID, movieID, actualRating, estimatedRating, _ in nom_predict[key]:\n",
    "            intMovieID = int(movieID)\n",
    "            nom_recomm.append((intMovieID, estimatedRating))\n",
    "        recommendation[key] = nom_recomm\n",
    "\n",
    "        recommendation[key].sort(key=lambda x: x[1], reverse=True)  #sort nominated movies by rating desc\n",
    "    \n",
    "    #generate list of nominated movie_ids from all nominators\n",
    "    nominated_mov_ids= []\n",
    "    for key in recommendation:\n",
    "        for i in range(num_nomin):\n",
    "            nominated_mov_ids.append(recommendation[key][i][0])  \n",
    "        \n",
    "    nom_movies_df=final_df.loc[final_df['movieId'].isin(nominated_mov_ids)]\n",
    "    \n",
    "    return nom_movies_df\n",
    "\n"
   ]
  },
  {
   "cell_type": "markdown",
   "metadata": {
    "id": "MMRiKqzpWkY8"
   },
   "source": [
    "#### (3) Train Ranker with input from nominators"
   ]
  },
  {
   "cell_type": "code",
   "execution_count": 7,
   "metadata": {
    "id": "zShAKaM1-hIU"
   },
   "outputs": [],
   "source": [
    "#create and train an SVD Ranker stage \n",
    "def fit_ranker_SVD(nom_movies_df):   #takes output of nominator stage as a df\n",
    "    reader = Reader(rating_scale=(1, 5))\n",
    "    ranker_dataset = Dataset.load_from_df(nom_movies_df[['userId', 'movieId', 'rating']], reader=reader)\n",
    "    ranker_svd = SVD(n_factors=100,n_epochs=50,random_state=42)\n",
    "    ranker_trainset = ranker_dataset.build_full_trainset()\n",
    "    ranker_svd.fit(ranker_trainset)\n",
    "    print('Ranker has been trained')\n",
    "    return ranker_svd, ranker_trainset\n",
    "\n",
    "\n"
   ]
  },
  {
   "cell_type": "markdown",
   "metadata": {
    "id": "stte_scfWkY9"
   },
   "source": [
    "#### (4) Test"
   ]
  },
  {
   "cell_type": "markdown",
   "metadata": {},
   "source": [
    "### SVD Nominators:"
   ]
  },
  {
   "cell_type": "code",
   "execution_count": 33,
   "metadata": {
    "id": "NBxvv_pxWkY9",
    "outputId": "12428a32-5308-4b9d-ce38-3bcd2bf3652f"
   },
   "outputs": [
    {
     "name": "stdout",
     "output_type": "stream",
     "text": [
      "10 dfs of  500104 randomly chosen movies have been created\n",
      "10 nominators have been trained\n",
      "Wall time: 2min 57s\n"
     ]
    }
   ],
   "source": [
    "%%time\n",
    "# Train Nominator\n",
    "n_noms = 10\n",
    "u_id = 1920\n",
    "nom_dfs = nom_sampling(final_df, n_noms, 1/2)\n",
    "nom_svds = fit_noms(nom_dfs)\n",
    "testset = Build_Testset4User(final_df, u_id)\n",
    "nom_movies_df = Nominator_SVD(testset, nom_svds, num_nomin=500)"
   ]
  },
  {
   "cell_type": "markdown",
   "metadata": {},
   "source": [
    "### KNNBasic Ranker:"
   ]
  },
  {
   "cell_type": "code",
   "execution_count": 9,
   "metadata": {},
   "outputs": [],
   "source": [
    "#create and train an KNNBasic Ranker stage \n",
    "from surprise import KNNBasic\n",
    "\n",
    "def fit_ranker_KNN(nom_movies_df):   #takes output of nominator stage as a df\n",
    "    reader = Reader(rating_scale=(1, 5))\n",
    "    ranker_dataset = Dataset.load_from_df(nom_movies_df[['userId', 'movieId', 'rating']], reader=reader)\n",
    "    global ranker_knn\n",
    "    ranker_knn = KNNBasic(n_factors=50, random_state=42)\n",
    "    ranker_trainset = ranker_dataset.build_full_trainset()\n",
    "    ranker_knn.fit(ranker_trainset)\n",
    "    print('Ranker has been trained')\n",
    "    return ranker_knn, ranker_trainset\n",
    "\n",
    "\n",
    "def Rank_KNN(num_recommend=10, latest=False):\n",
    "    \n",
    "    testset = Build_Testset4User(final_df, user_id)\n",
    "    predict = ranker_knn.test(testset)  \n",
    "    \n",
    "    recommendation = list()\n",
    "    for userID, movieID, actualRating, estimatedRating, _ in predict:\n",
    "        intMovieID = int(movieID)\n",
    "        recommendation.append((intMovieID, estimatedRating))\n",
    "        \n",
    "    recommendation.sort(key=lambda x: x[1], reverse=True)\n",
    "    \n",
    "    id_2_names = dict()\n",
    "    for idx, names in zip(movies['movieId'], movies['movie_names']):\n",
    "        id_2_names[idx] = names\n",
    "    \n",
    "    movie_names, movie_ratings = [], []\n",
    "    for name, ratings in recommendation[:20]:\n",
    "        movie_names.append(id_2_names[name])\n",
    "        movie_ratings.append(ratings)\n",
    "        \n",
    "    movie_dataframe =  pd.DataFrame({'movie_names': movie_names,\n",
    "                                     'rating': movie_ratings}).merge(movies[['movie_names', 'release_year']],\n",
    "                                            on='movie_names', how='left')\n",
    "    \n",
    "    if latest == True:\n",
    "        return movie_dataframe.sort_values('release_year', ascending=False)[['movie_names', 'rating']].head(num_recommend)\n",
    "    \n",
    "    else:\n",
    "        return movie_dataframe.drop('release_year', axis=1).head(num_recommend)"
   ]
  },
  {
   "cell_type": "code",
   "execution_count": 34,
   "metadata": {},
   "outputs": [
    {
     "name": "stdout",
     "output_type": "stream",
     "text": [
      "Computing the msd similarity matrix...\n",
      "Done computing similarity matrix.\n",
      "Ranker has been trained\n",
      "SVD/KNNBasic - RMSE: 0.3202063417827386\n",
      "SVD/KNNBasic - MAE: 0.2535558833469828\n",
      "Wall time: 6min 44s\n"
     ]
    }
   ],
   "source": [
    "%%time\n",
    "ranker_knn, ranker_trainset_knn = fit_ranker_KNN(nom_movies_df)\n",
    "res_knn = Rank_KNN(num_recommend=10)\n",
    "ranker_testset_knn = ranker_trainset_knn.build_anti_testset()\n",
    "predictions_knn = ranker_knn.test(ranker_testset_knn)\n",
    "print('SVD/KNNBasic - RMSE:', accuracy.rmse(predictions_knn, verbose=False))\n",
    "print('SVD/KNNBasic - MAE:', accuracy.mae(predictions_knn, verbose=False))"
   ]
  },
  {
   "cell_type": "markdown",
   "metadata": {
    "id": "0GrBz9HIWkY-"
   },
   "source": [
    "### Below is the baseline of a single stage"
   ]
  },
  {
   "cell_type": "code",
   "execution_count": null,
   "metadata": {
    "id": "BV2L5o_s_zdm",
    "outputId": "7862bea2-9f30-4877-a990-903de8d2c35b"
   },
   "outputs": [
    {
     "name": "stdout",
     "output_type": "stream",
     "text": [
      "SVD - RMSE: 0.6998857258382658\n",
      "SVD - MAE: 0.541771079017402\n"
     ]
    }
   ],
   "source": [
    "%%time\n",
    "svd=SVD(n_factors=50, n_epochs=20, random_state=42)\n",
    "dataset = Dataset.load_from_df(final_df[['userId', 'movieId', 'rating']], reader=reader)\n",
    "trainset = dataset.build_full_trainset()\n",
    "svd.fit(trainset)\n",
    "testset = trainset.build_anti_testset()\n",
    "predictions_svd = svd.test(testset)\n",
    "print('SVD - RMSE:', accuracy.rmse(predictions_svd, verbose=False))\n",
    "print('SVD - MAE:', accuracy.mae(predictions_svd, verbose=False))"
   ]
  },
  {
   "cell_type": "code",
   "execution_count": null,
   "metadata": {},
   "outputs": [],
   "source": [
    "def Rank_SVD(num_recommend=10, latest=False):\n",
    "    \n",
    "    testset = Build_Testset4User(final_df, user_id)\n",
    "    predict = ranker_svd.test(testset)  \n",
    "    \n",
    "    recommendation = list()\n",
    "    for userID, movieID, actualRating, estimatedRating, _ in predict:\n",
    "        intMovieID = int(movieID)\n",
    "        recommendation.append((intMovieID, estimatedRating))\n",
    "        \n",
    "    recommendation.sort(key=lambda x: x[1], reverse=True)\n",
    "    \n",
    "    id_2_names = dict()\n",
    "    for idx, names in zip(movies['movieId'], movies['movie_names']):\n",
    "        id_2_names[idx] = names\n",
    "    \n",
    "    movie_names, movie_ratings = [], []\n",
    "    for name, ratings in recommendation[:20]:\n",
    "        movie_names.append(id_2_names[name])\n",
    "        movie_ratings.append(ratings)\n",
    "        \n",
    "    movie_dataframe =  pd.DataFrame({'movie_names': movie_names,\n",
    "                                     'rating': movie_ratings}).merge(movies[['movie_names', 'release_year']],\n",
    "                                            on='movie_names', how='left')\n",
    "    \n",
    "    if latest == True:\n",
    "        return movie_dataframe.sort_values('release_year', ascending=False)[['movie_names', 'rating']].head(num_recommend)\n",
    "    \n",
    "    else:\n",
    "        return movie_dataframe.drop('release_year', axis=1).head(num_recommend)\n",
    "\n"
   ]
  }
 ],
 "metadata": {
  "colab": {
   "name": "Two_Stage_Recommender_System_SVD.ipynb",
   "provenance": []
  },
  "kernelspec": {
   "display_name": "Python 3 (ipykernel)",
   "language": "python",
   "name": "python3"
  },
  "language_info": {
   "codemirror_mode": {
    "name": "ipython",
    "version": 3
   },
   "file_extension": ".py",
   "mimetype": "text/x-python",
   "name": "python",
   "nbconvert_exporter": "python",
   "pygments_lexer": "ipython3",
   "version": "3.9.2"
  }
 },
 "nbformat": 4,
 "nbformat_minor": 1
}
