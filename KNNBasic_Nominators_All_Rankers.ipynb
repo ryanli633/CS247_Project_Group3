{
 "cells": [
  {
   "cell_type": "markdown",
   "metadata": {
    "id": "FbE8dVyX2nxN"
   },
   "source": [
    "# Two Stage Recommender System Testing\n",
    "*CS247 Project Winter 2022 - Ryan Li, Osama Hassen, Sam Anderson*"
   ]
  },
  {
   "cell_type": "markdown",
   "metadata": {
    "id": "PT9SSZyJ200R"
   },
   "source": [
    "## Recommender Systems on MovieLens 1M Dataset"
   ]
  },
  {
   "cell_type": "markdown",
   "metadata": {
    "id": "RejRaxic9ATq"
   },
   "source": [
    "### Loading and Formatting the Dataset"
   ]
  },
  {
   "cell_type": "code",
   "execution_count": 1,
   "metadata": {
    "colab": {
     "base_uri": "https://localhost:8080/",
     "height": 17
    },
    "id": "ITZMDBucw_2j",
    "outputId": "46e16bdd-890d-4ff0-bc1c-b09c0ee585ca"
   },
   "outputs": [
    {
     "data": {
      "text/html": [
       "        <script type=\"text/javascript\">\n",
       "        window.PlotlyConfig = {MathJaxConfig: 'local'};\n",
       "        if (window.MathJax) {MathJax.Hub.Config({SVG: {font: \"STIX-Web\"}});}\n",
       "        if (typeof require !== 'undefined') {\n",
       "        require.undef(\"plotly\");\n",
       "        requirejs.config({\n",
       "            paths: {\n",
       "                'plotly': ['https://cdn.plot.ly/plotly-2.9.0.min']\n",
       "            }\n",
       "        });\n",
       "        require(['plotly'], function(Plotly) {\n",
       "            window._Plotly = Plotly;\n",
       "        });\n",
       "        }\n",
       "        </script>\n",
       "        "
      ]
     },
     "metadata": {},
     "output_type": "display_data"
    }
   ],
   "source": [
    "#primary source: https://www.kaggle.com/scratchpad/notebookbdf4340e3d/edit\n",
    "import numpy as np # linear algebra\n",
    "import pandas as pd # data processing, CSV file I/O (e.g. pd.read_csv)\n",
    "import matplotlib.pyplot as plt\n",
    "import seaborn as sns\n",
    "import os\n",
    "import re\n",
    "\n",
    "from plotly.offline import init_notebook_mode, iplot\n",
    "import plotly.graph_objs as go\n",
    "import plotly.offline as py\n",
    "py.init_notebook_mode(connected=True)\n",
    "\n",
    "import warnings\n",
    "warnings.filterwarnings('ignore')\n",
    "\n",
    "plt.style.use('fivethirtyeight')\n",
    "plt.rcParams['figure.figsize'] = [18, 8]"
   ]
  },
  {
   "cell_type": "code",
   "execution_count": 2,
   "metadata": {
    "colab": {
     "base_uri": "https://localhost:8080/"
    },
    "id": "RG5U6ljQ41pH",
    "outputId": "158e0358-0c32-4c14-af79-a157da141661"
   },
   "outputs": [
    {
     "name": "stdout",
     "output_type": "stream",
     "text": [
      "--2022-03-08 22:50:28--  https://files.grouplens.org/datasets/movielens/ml-1m.zip\n",
      "Resolving files.grouplens.org (files.grouplens.org)... 128.101.65.152\n",
      "Connecting to files.grouplens.org (files.grouplens.org)|128.101.65.152|:443... connected.\n",
      "HTTP request sent, awaiting response... 200 OK\n",
      "Length: 5917549 (5.6M) [application/zip]\n",
      "Saving to: ‘ml-1m.zip.1’\n",
      "\n",
      "ml-1m.zip.1         100%[===================>]   5.64M  1.12MB/s    in 8.0s    \n",
      "\n",
      "2022-03-08 22:50:37 (726 KB/s) - ‘ml-1m.zip.1’ saved [5917549/5917549]\n",
      "\n"
     ]
    }
   ],
   "source": [
    "#Load m1-1m dataset into Colab\n",
    "!wget https://files.grouplens.org/datasets/movielens/ml-1m.zip\n",
    "#!unzip ml-1m.zip      #this works in colab but not windows/jupyter\n",
    "\n",
    "#Use this for windows/jupyter to unzip\n",
    "import zipfile\n",
    "with zipfile.ZipFile(\"ml-1m.zip\", \"r\") as zip_ref:\n",
    "    zip_ref.extractall()"
   ]
  },
  {
   "cell_type": "code",
   "execution_count": 3,
   "metadata": {
    "colab": {
     "base_uri": "https://localhost:8080/"
    },
    "id": "r-iiDtW42Xa4",
    "outputId": "35a1252f-cc16-4295-8d58-d44c75e94e1f"
   },
   "outputs": [
    {
     "name": "stdout",
     "output_type": "stream",
     "text": [
      "Reviews shape: (1000209, 4)\n",
      "Users shape: (6040, 5)\n",
      "Movies shape: (3883, 3)\n"
     ]
    }
   ],
   "source": [
    "#extract data into dataframes\n",
    "reviews = pd.read_csv('ml-1m/ratings.dat', names=['userId', 'movieId', 'rating', 'time'], delimiter='::', engine='python', encoding=\"iso-8859-1\")\n",
    "movies = pd.read_csv('ml-1m/movies.dat', names=['movieId', 'movie_names', 'genres'], delimiter='::', engine='python', encoding=\"iso-8859-1\")\n",
    "users = pd.read_csv('ml-1m/users.dat', names=['userId', 'gender', 'age', 'occupation', 'zip'], delimiter='::', engine='python', encoding=\"iso-8859-1\")\n",
    "\n",
    "print('Reviews shape:', reviews.shape)\n",
    "print('Users shape:', users.shape)\n",
    "print('Movies shape:', movies.shape)\n",
    "\n"
   ]
  },
  {
   "cell_type": "code",
   "execution_count": 4,
   "metadata": {
    "colab": {
     "base_uri": "https://localhost:8080/",
     "height": 441
    },
    "id": "KlMPugEc8aLD",
    "outputId": "b148ee48-fbc7-488d-ad53-1e9b6376c04b"
   },
   "outputs": [
    {
     "name": "stdout",
     "output_type": "stream",
     "text": [
      "final_df shape: (1000209, 9)\n"
     ]
    },
    {
     "data": {
      "text/html": [
       "<div>\n",
       "<style scoped>\n",
       "    .dataframe tbody tr th:only-of-type {\n",
       "        vertical-align: middle;\n",
       "    }\n",
       "\n",
       "    .dataframe tbody tr th {\n",
       "        vertical-align: top;\n",
       "    }\n",
       "\n",
       "    .dataframe thead th {\n",
       "        text-align: right;\n",
       "    }\n",
       "</style>\n",
       "<table border=\"1\" class=\"dataframe\">\n",
       "  <thead>\n",
       "    <tr style=\"text-align: right;\">\n",
       "      <th></th>\n",
       "      <th>userId</th>\n",
       "      <th>movieId</th>\n",
       "      <th>rating</th>\n",
       "      <th>movie_names</th>\n",
       "      <th>genres</th>\n",
       "      <th>release_year</th>\n",
       "      <th>gender</th>\n",
       "      <th>age</th>\n",
       "      <th>occupation</th>\n",
       "    </tr>\n",
       "  </thead>\n",
       "  <tbody>\n",
       "    <tr>\n",
       "      <th>0</th>\n",
       "      <td>1</td>\n",
       "      <td>1193</td>\n",
       "      <td>5</td>\n",
       "      <td>One Flew Over the Cuckoo's Nest (1975)</td>\n",
       "      <td>Drama</td>\n",
       "      <td>1975</td>\n",
       "      <td>Female</td>\n",
       "      <td>Under 18</td>\n",
       "      <td>K-12 student</td>\n",
       "    </tr>\n",
       "    <tr>\n",
       "      <th>1</th>\n",
       "      <td>1</td>\n",
       "      <td>661</td>\n",
       "      <td>3</td>\n",
       "      <td>James and the Giant Peach (1996)</td>\n",
       "      <td>Animation|Children's|Musical</td>\n",
       "      <td>1996</td>\n",
       "      <td>Female</td>\n",
       "      <td>Under 18</td>\n",
       "      <td>K-12 student</td>\n",
       "    </tr>\n",
       "    <tr>\n",
       "      <th>2</th>\n",
       "      <td>1</td>\n",
       "      <td>914</td>\n",
       "      <td>3</td>\n",
       "      <td>My Fair Lady (1964)</td>\n",
       "      <td>Musical|Romance</td>\n",
       "      <td>1964</td>\n",
       "      <td>Female</td>\n",
       "      <td>Under 18</td>\n",
       "      <td>K-12 student</td>\n",
       "    </tr>\n",
       "    <tr>\n",
       "      <th>3</th>\n",
       "      <td>1</td>\n",
       "      <td>3408</td>\n",
       "      <td>4</td>\n",
       "      <td>Erin Brockovich (2000)</td>\n",
       "      <td>Drama</td>\n",
       "      <td>2000</td>\n",
       "      <td>Female</td>\n",
       "      <td>Under 18</td>\n",
       "      <td>K-12 student</td>\n",
       "    </tr>\n",
       "    <tr>\n",
       "      <th>4</th>\n",
       "      <td>1</td>\n",
       "      <td>2355</td>\n",
       "      <td>5</td>\n",
       "      <td>Bug's Life, A (1998)</td>\n",
       "      <td>Animation|Children's|Comedy</td>\n",
       "      <td>1998</td>\n",
       "      <td>Female</td>\n",
       "      <td>Under 18</td>\n",
       "      <td>K-12 student</td>\n",
       "    </tr>\n",
       "    <tr>\n",
       "      <th>...</th>\n",
       "      <td>...</td>\n",
       "      <td>...</td>\n",
       "      <td>...</td>\n",
       "      <td>...</td>\n",
       "      <td>...</td>\n",
       "      <td>...</td>\n",
       "      <td>...</td>\n",
       "      <td>...</td>\n",
       "      <td>...</td>\n",
       "    </tr>\n",
       "    <tr>\n",
       "      <th>1000204</th>\n",
       "      <td>6040</td>\n",
       "      <td>1091</td>\n",
       "      <td>1</td>\n",
       "      <td>Weekend at Bernie's (1989)</td>\n",
       "      <td>Comedy</td>\n",
       "      <td>1989</td>\n",
       "      <td>Male</td>\n",
       "      <td>25 - 34</td>\n",
       "      <td>Doctor / Health Care</td>\n",
       "    </tr>\n",
       "    <tr>\n",
       "      <th>1000205</th>\n",
       "      <td>6040</td>\n",
       "      <td>1094</td>\n",
       "      <td>5</td>\n",
       "      <td>Crying Game, The (1992)</td>\n",
       "      <td>Drama|Romance|War</td>\n",
       "      <td>1992</td>\n",
       "      <td>Male</td>\n",
       "      <td>25 - 34</td>\n",
       "      <td>Doctor / Health Care</td>\n",
       "    </tr>\n",
       "    <tr>\n",
       "      <th>1000206</th>\n",
       "      <td>6040</td>\n",
       "      <td>562</td>\n",
       "      <td>5</td>\n",
       "      <td>Welcome to the Dollhouse (1995)</td>\n",
       "      <td>Comedy|Drama</td>\n",
       "      <td>1995</td>\n",
       "      <td>Male</td>\n",
       "      <td>25 - 34</td>\n",
       "      <td>Doctor / Health Care</td>\n",
       "    </tr>\n",
       "    <tr>\n",
       "      <th>1000207</th>\n",
       "      <td>6040</td>\n",
       "      <td>1096</td>\n",
       "      <td>4</td>\n",
       "      <td>Sophie's Choice (1982)</td>\n",
       "      <td>Drama</td>\n",
       "      <td>1982</td>\n",
       "      <td>Male</td>\n",
       "      <td>25 - 34</td>\n",
       "      <td>Doctor / Health Care</td>\n",
       "    </tr>\n",
       "    <tr>\n",
       "      <th>1000208</th>\n",
       "      <td>6040</td>\n",
       "      <td>1097</td>\n",
       "      <td>4</td>\n",
       "      <td>E.T. the Extra-Terrestrial (1982)</td>\n",
       "      <td>Children's|Drama|Fantasy|Sci-Fi</td>\n",
       "      <td>1982</td>\n",
       "      <td>Male</td>\n",
       "      <td>25 - 34</td>\n",
       "      <td>Doctor / Health Care</td>\n",
       "    </tr>\n",
       "  </tbody>\n",
       "</table>\n",
       "<p>1000209 rows × 9 columns</p>\n",
       "</div>"
      ],
      "text/plain": [
       "         userId  movieId  rating                             movie_names  \\\n",
       "0             1     1193       5  One Flew Over the Cuckoo's Nest (1975)   \n",
       "1             1      661       3        James and the Giant Peach (1996)   \n",
       "2             1      914       3                     My Fair Lady (1964)   \n",
       "3             1     3408       4                  Erin Brockovich (2000)   \n",
       "4             1     2355       5                    Bug's Life, A (1998)   \n",
       "...         ...      ...     ...                                     ...   \n",
       "1000204    6040     1091       1              Weekend at Bernie's (1989)   \n",
       "1000205    6040     1094       5                 Crying Game, The (1992)   \n",
       "1000206    6040      562       5         Welcome to the Dollhouse (1995)   \n",
       "1000207    6040     1096       4                  Sophie's Choice (1982)   \n",
       "1000208    6040     1097       4       E.T. the Extra-Terrestrial (1982)   \n",
       "\n",
       "                                  genres release_year  gender       age  \\\n",
       "0                                  Drama         1975  Female  Under 18   \n",
       "1           Animation|Children's|Musical         1996  Female  Under 18   \n",
       "2                        Musical|Romance         1964  Female  Under 18   \n",
       "3                                  Drama         2000  Female  Under 18   \n",
       "4            Animation|Children's|Comedy         1998  Female  Under 18   \n",
       "...                                  ...          ...     ...       ...   \n",
       "1000204                           Comedy         1989    Male   25 - 34   \n",
       "1000205                Drama|Romance|War         1992    Male   25 - 34   \n",
       "1000206                     Comedy|Drama         1995    Male   25 - 34   \n",
       "1000207                            Drama         1982    Male   25 - 34   \n",
       "1000208  Children's|Drama|Fantasy|Sci-Fi         1982    Male   25 - 34   \n",
       "\n",
       "                   occupation  \n",
       "0                K-12 student  \n",
       "1                K-12 student  \n",
       "2                K-12 student  \n",
       "3                K-12 student  \n",
       "4                K-12 student  \n",
       "...                       ...  \n",
       "1000204  Doctor / Health Care  \n",
       "1000205  Doctor / Health Care  \n",
       "1000206  Doctor / Health Care  \n",
       "1000207  Doctor / Health Care  \n",
       "1000208  Doctor / Health Care  \n",
       "\n",
       "[1000209 rows x 9 columns]"
      ]
     },
     "execution_count": 4,
     "metadata": {},
     "output_type": "execute_result"
    }
   ],
   "source": [
    "#reformat the dataset to retain/enhance useful features then merge the tables\n",
    "\n",
    "reviews.drop(['time'], axis=1, inplace=True)\n",
    "users.drop(['zip'], axis=1, inplace=True)\n",
    "\n",
    "movies['release_year'] = movies['movie_names'].str.extract(r'(?:\\((\\d{4})\\))?\\s*$', expand=False)\n",
    "\n",
    "ages_map = {1: 'Under 18',\n",
    "            18: '18 - 24',\n",
    "            25: '25 - 34',\n",
    "            35: '35 - 44',\n",
    "            45: '45 - 49',\n",
    "            50: '50 - 55',\n",
    "            56: '56+'}\n",
    "\n",
    "occupations_map = {0: 'Not specified',\n",
    "                   1: 'Academic / Educator',\n",
    "                   2: 'Artist',\n",
    "                   3: 'Clerical / Admin',\n",
    "                   4: 'College / Grad Student',\n",
    "                   5: 'Customer Service',\n",
    "                   6: 'Doctor / Health Care',\n",
    "                   7: 'Executive / Managerial',\n",
    "                   8: 'Farmer',\n",
    "                   9: 'Homemaker',\n",
    "                   10: 'K-12 student',\n",
    "                   11: 'Lawyer',\n",
    "                   12: 'Programmer',\n",
    "                   13: 'Retired',\n",
    "                   14: 'Sales / Marketing',\n",
    "                   15: 'Scientist',\n",
    "                   16: 'Self-Employed',\n",
    "                   17: 'Technician / Engineer',\n",
    "                   18: 'Tradesman / Craftsman',\n",
    "                   19: 'Unemployed',\n",
    "                   20: 'Writer'}\n",
    "\n",
    "gender_map = {'M': 'Male', 'F': 'Female'}\n",
    "\n",
    "users['age'] = users['age'].map(ages_map)\n",
    "users['occupation'] = users['occupation'].map(occupations_map)\n",
    "users['gender'] = users['gender'].map(gender_map)\n",
    "\n",
    "final_df = reviews.merge(movies, on='movieId', how='left').merge(users, on='userId', how='left')\n",
    "\n",
    "print('final_df shape:', final_df.shape)\n",
    "final_df"
   ]
  },
  {
   "cell_type": "code",
   "execution_count": 5,
   "metadata": {
    "colab": {
     "base_uri": "https://localhost:8080/"
    },
    "id": "RtTK0DZd8-QM",
    "outputId": "769f60e1-b41a-436a-ead8-4b8f98d68694"
   },
   "outputs": [
    {
     "name": "stdout",
     "output_type": "stream",
     "text": [
      "Number of users: 6040\n",
      "Number of movies: 3706\n"
     ]
    }
   ],
   "source": [
    "n_users = final_df['userId'].nunique()\n",
    "n_movies = final_df['movieId'].nunique()\n",
    "\n",
    "print('Number of users:', n_users)\n",
    "print('Number of movies:', n_movies)"
   ]
  },
  {
   "cell_type": "code",
   "execution_count": 6,
   "metadata": {
    "id": "36m_Lxo39ddz"
   },
   "outputs": [],
   "source": [
    "final_df_matrix = final_df.pivot(index='userId',\n",
    "                                 columns='movieId',\n",
    "                                 values='rating').fillna(0)"
   ]
  },
  {
   "cell_type": "code",
   "execution_count": 7,
   "metadata": {
    "id": "5XIe8T9A9iNR"
   },
   "outputs": [],
   "source": [
    "#save final_df to csv for nominators\n",
    "final_df.to_csv('final_df')\n"
   ]
  },
  {
   "cell_type": "markdown",
   "metadata": {
    "id": "z6z-6OxZWkY4"
   },
   "source": [
    "### Begin Nominator Stage - KNNBasic Nominators\n",
    "#### (1) Generate n nominator dfs from full dataset"
   ]
  },
  {
   "cell_type": "code",
   "execution_count": 8,
   "metadata": {
    "id": "zDeg5S4oWkY5",
    "outputId": "93ac5c9d-d811-4377-f540-10ae72745ed3"
   },
   "outputs": [
    {
     "data": {
      "text/html": [
       "<div>\n",
       "<style scoped>\n",
       "    .dataframe tbody tr th:only-of-type {\n",
       "        vertical-align: middle;\n",
       "    }\n",
       "\n",
       "    .dataframe tbody tr th {\n",
       "        vertical-align: top;\n",
       "    }\n",
       "\n",
       "    .dataframe thead th {\n",
       "        text-align: right;\n",
       "    }\n",
       "</style>\n",
       "<table border=\"1\" class=\"dataframe\">\n",
       "  <thead>\n",
       "    <tr style=\"text-align: right;\">\n",
       "      <th></th>\n",
       "      <th>userId</th>\n",
       "      <th>movieId</th>\n",
       "      <th>rating</th>\n",
       "      <th>movie_names</th>\n",
       "      <th>genres</th>\n",
       "      <th>release_year</th>\n",
       "      <th>gender</th>\n",
       "      <th>age</th>\n",
       "      <th>occupation</th>\n",
       "    </tr>\n",
       "  </thead>\n",
       "  <tbody>\n",
       "    <tr>\n",
       "      <th>0</th>\n",
       "      <td>1</td>\n",
       "      <td>1193</td>\n",
       "      <td>5</td>\n",
       "      <td>One Flew Over the Cuckoo's Nest (1975)</td>\n",
       "      <td>Drama</td>\n",
       "      <td>1975</td>\n",
       "      <td>Female</td>\n",
       "      <td>Under 18</td>\n",
       "      <td>K-12 student</td>\n",
       "    </tr>\n",
       "    <tr>\n",
       "      <th>1</th>\n",
       "      <td>1</td>\n",
       "      <td>661</td>\n",
       "      <td>3</td>\n",
       "      <td>James and the Giant Peach (1996)</td>\n",
       "      <td>Animation|Children's|Musical</td>\n",
       "      <td>1996</td>\n",
       "      <td>Female</td>\n",
       "      <td>Under 18</td>\n",
       "      <td>K-12 student</td>\n",
       "    </tr>\n",
       "    <tr>\n",
       "      <th>2</th>\n",
       "      <td>1</td>\n",
       "      <td>914</td>\n",
       "      <td>3</td>\n",
       "      <td>My Fair Lady (1964)</td>\n",
       "      <td>Musical|Romance</td>\n",
       "      <td>1964</td>\n",
       "      <td>Female</td>\n",
       "      <td>Under 18</td>\n",
       "      <td>K-12 student</td>\n",
       "    </tr>\n",
       "    <tr>\n",
       "      <th>3</th>\n",
       "      <td>1</td>\n",
       "      <td>3408</td>\n",
       "      <td>4</td>\n",
       "      <td>Erin Brockovich (2000)</td>\n",
       "      <td>Drama</td>\n",
       "      <td>2000</td>\n",
       "      <td>Female</td>\n",
       "      <td>Under 18</td>\n",
       "      <td>K-12 student</td>\n",
       "    </tr>\n",
       "    <tr>\n",
       "      <th>4</th>\n",
       "      <td>1</td>\n",
       "      <td>2355</td>\n",
       "      <td>5</td>\n",
       "      <td>Bug's Life, A (1998)</td>\n",
       "      <td>Animation|Children's|Comedy</td>\n",
       "      <td>1998</td>\n",
       "      <td>Female</td>\n",
       "      <td>Under 18</td>\n",
       "      <td>K-12 student</td>\n",
       "    </tr>\n",
       "  </tbody>\n",
       "</table>\n",
       "</div>"
      ],
      "text/plain": [
       "   userId  movieId  rating                             movie_names  \\\n",
       "0       1     1193       5  One Flew Over the Cuckoo's Nest (1975)   \n",
       "1       1      661       3        James and the Giant Peach (1996)   \n",
       "2       1      914       3                     My Fair Lady (1964)   \n",
       "3       1     3408       4                  Erin Brockovich (2000)   \n",
       "4       1     2355       5                    Bug's Life, A (1998)   \n",
       "\n",
       "                         genres  release_year  gender       age    occupation  \n",
       "0                         Drama          1975  Female  Under 18  K-12 student  \n",
       "1  Animation|Children's|Musical          1996  Female  Under 18  K-12 student  \n",
       "2               Musical|Romance          1964  Female  Under 18  K-12 student  \n",
       "3                         Drama          2000  Female  Under 18  K-12 student  \n",
       "4   Animation|Children's|Comedy          1998  Female  Under 18  K-12 student  "
      ]
     },
     "execution_count": 8,
     "metadata": {},
     "output_type": "execute_result"
    }
   ],
   "source": [
    "final_df = pd.read_csv('./final_df')\n",
    "final_df=final_df.drop(['Unnamed: 0'], axis=1)\n",
    "final_df.head()"
   ]
  },
  {
   "cell_type": "code",
   "execution_count": 9,
   "metadata": {
    "id": "YQzOnnC_WkY6"
   },
   "outputs": [],
   "source": [
    "#enter df of whole dataset, number of nominators, and fraction of sampling\n",
    "#(frac=1/4 means each nominator will randomly sample 25% of the df)\n",
    "#allow for some overlap. n_noms should be > denominator of frac.\n",
    "def nom_sampling(df, n_noms, frac):\n",
    "    nom_dfs = {}\n",
    "    k = 0\n",
    "    while k < n_noms:\n",
    "        # dynamically create key\n",
    "        nom_dfs[k] = df.sample(frac=frac, replace=False, axis=0) \n",
    "        k += 1\n",
    "    print(len(nom_dfs), 'dfs of ', nom_dfs[0].shape[0], 'randomly chosen movies have been created')\n",
    "    return nom_dfs"
   ]
  },
  {
   "cell_type": "code",
   "execution_count": 19,
   "metadata": {
    "id": "0Cea-Dvp9oLl"
   },
   "outputs": [],
   "source": [
    "#!pip install surprise #\n",
    "from surprise import Reader, Dataset, KNNBasic, SVD, SVDpp, accuracy"
   ]
  },
  {
   "cell_type": "markdown",
   "metadata": {
    "id": "c_oWGckgWkY8"
   },
   "source": [
    "#### (2) Using dictionaries for the nominators and duplicating the training code for each item as individual functions"
   ]
  },
  {
   "cell_type": "code",
   "execution_count": 35,
   "metadata": {
    "id": "mF7J5O0EWkY8"
   },
   "outputs": [],
   "source": [
    "\n",
    "#fitting nominators\n",
    "def fit_noms(nom_dfs):  #expects dictionary of nominator dfs\n",
    "    reader = Reader(rating_scale=(1, 5))\n",
    "    nom_datasets = {key:Dataset.load_from_df(nom_dfs[key][['userId', 'movieId', 'rating']], reader=reader) for key in nom_dfs}\n",
    "    nom_trainsets = {key:nom_datasets[key].build_full_trainset() for key in nom_datasets}\n",
    "    nom_knns = {key:KNNBasic(k=100).fit(nom_trainsets[key]) for key in nom_trainsets}\n",
    "    print(len(nom_dfs), 'nominators have been trained')\n",
    "    return nom_knns  #returns dictionary of trained models\n",
    "\n",
    "\n",
    "def Build_Testset4User(df, u_id):\n",
    "    \n",
    "    global user_id\n",
    "    user_id=u_id\n",
    "    reader = Reader(rating_scale=(1, 5))\n",
    "    dataset = Dataset.load_from_df(df[['userId', 'movieId', 'rating']], reader=reader)\n",
    "    trainset = dataset.build_full_trainset()  #whole dataset is used for trainig\n",
    "    fill = trainset.global_mean\n",
    "    testset = list()\n",
    "    u = trainset.to_inner_uid(user_id)\n",
    "    \n",
    "    # ur == users ratings\n",
    "    user_items = set([item_inner_id for (item_inner_id, rating) in trainset.ur[u]])\n",
    "    \n",
    "    testset += [(trainset.to_raw_uid(u), trainset.to_raw_iid(i), fill) for\n",
    "                            i in trainset.all_items() if i not in user_items]\n",
    "    \n",
    "    return testset\n",
    "\n",
    "#enter testset (from Build_Testset4User), nom_knns (from fit_noms), # items per nominator to be passed to Ranker\n",
    "def Nominator_KNN(testset, nom_knns, num_nomin=100):  \n",
    "    nom_predict = {key:nom_knns[key].test(testset) for key in nom_knns}  # we can change to SVD++ later\n",
    "    \n",
    "    nom_recomm, recommendation = [], {}\n",
    "    recommendation = {}\n",
    "    \n",
    "    for key in nom_predict:\n",
    "        for userID, movieID, actualRating, estimatedRating, _ in nom_predict[key]:\n",
    "            intMovieID = int(movieID)\n",
    "            nom_recomm.append((intMovieID, estimatedRating))\n",
    "        recommendation[key] = nom_recomm\n",
    "\n",
    "        recommendation[key].sort(key=lambda x: x[1], reverse=True)  #sort nominated movies by rating desc\n",
    "    \n",
    "    #generate list of nominated movie_ids from all nominators\n",
    "    nominated_mov_ids= []\n",
    "    for key in recommendation:\n",
    "        for i in range(num_nomin):\n",
    "            nominated_mov_ids.append(recommendation[key][i][0])  \n",
    "        \n",
    "    nom_movies_df=final_df.loc[final_df['movieId'].isin(nominated_mov_ids)]\n",
    "    \n",
    "    return nom_movies_df\n",
    "\n"
   ]
  },
  {
   "cell_type": "markdown",
   "metadata": {
    "id": "MMRiKqzpWkY8"
   },
   "source": [
    "#### (3) Train Ranker with input from nominators"
   ]
  },
  {
   "cell_type": "code",
   "execution_count": 25,
   "metadata": {
    "id": "zShAKaM1-hIU"
   },
   "outputs": [],
   "source": [
    "#create and train an SVD Ranker stage \n",
    "def fit_ranker_SVD(nom_movies_df):   #takes output of nominator stage as a df\n",
    "    reader = Reader(rating_scale=(1, 5))\n",
    "    ranker_dataset = Dataset.load_from_df(nom_movies_df[['userId', 'movieId', 'rating']], reader=reader)\n",
    "    ranker_svd = SVD(n_factors=50)\n",
    "    ranker_trainset = ranker_dataset.build_full_trainset()\n",
    "    ranker_svd.fit(ranker_trainset)\n",
    "    print('Ranker has been trained')\n",
    "    return ranker_svd, ranker_trainset\n",
    "\n",
    "\n",
    "def Rank_SVD(num_recommend=10, latest=False):\n",
    "    \n",
    "    testset = Build_Testset4User(final_df, user_id)\n",
    "    predict = ranker_svd.test(testset)  \n",
    "    \n",
    "    recommendation = list()\n",
    "    for userID, movieID, actualRating, estimatedRating, _ in predict:\n",
    "        intMovieID = int(movieID)\n",
    "        recommendation.append((intMovieID, estimatedRating))\n",
    "        \n",
    "    recommendation.sort(key=lambda x: x[1], reverse=True)\n",
    "    \n",
    "    id_2_names = dict()\n",
    "    for idx, names in zip(movies['movieId'], movies['movie_names']):\n",
    "        id_2_names[idx] = names\n",
    "    \n",
    "    movie_names, movie_ratings = [], []\n",
    "    for name, ratings in recommendation[:20]:\n",
    "        movie_names.append(id_2_names[name])\n",
    "        movie_ratings.append(ratings)\n",
    "        \n",
    "    movie_dataframe =  pd.DataFrame({'movie_names': movie_names,\n",
    "                                     'rating': movie_ratings}).merge(movies[['movie_names', 'release_year']],\n",
    "                                            on='movie_names', how='left')\n",
    "    \n",
    "    if latest == True:\n",
    "        return movie_dataframe.sort_values('release_year', ascending=False)[['movie_names', 'rating']].head(num_recommend)\n",
    "    \n",
    "    else:\n",
    "        return movie_dataframe.drop('release_year', axis=1).head(num_recommend)\n",
    "\n"
   ]
  },
  {
   "cell_type": "markdown",
   "metadata": {
    "id": "stte_scfWkY9"
   },
   "source": [
    "#### (4) Test"
   ]
  },
  {
   "cell_type": "code",
   "execution_count": 43,
   "metadata": {
    "id": "NBxvv_pxWkY9",
    "outputId": "12428a32-5308-4b9d-ce38-3bcd2bf3652f"
   },
   "outputs": [
    {
     "name": "stdout",
     "output_type": "stream",
     "text": [
      "8 dfs of  200042 randomly chosen movies have been created\n",
      "Computing the msd similarity matrix...\n",
      "Done computing similarity matrix.\n",
      "Computing the msd similarity matrix...\n",
      "Done computing similarity matrix.\n",
      "Computing the msd similarity matrix...\n",
      "Done computing similarity matrix.\n",
      "Computing the msd similarity matrix...\n",
      "Done computing similarity matrix.\n",
      "Computing the msd similarity matrix...\n",
      "Done computing similarity matrix.\n",
      "Computing the msd similarity matrix...\n",
      "Done computing similarity matrix.\n",
      "Computing the msd similarity matrix...\n",
      "Done computing similarity matrix.\n",
      "Computing the msd similarity matrix...\n",
      "Done computing similarity matrix.\n",
      "8 nominators have been trained\n",
      "CPU times: user 29.7 s, sys: 3.87 s, total: 33.6 s\n",
      "Wall time: 36.3 s\n"
     ]
    }
   ],
   "source": [
    "%%time\n",
    "# Train Nominator\n",
    "n_noms = 8\n",
    "u_id = 1920\n",
    "nom_dfs = nom_sampling(final_df, n_noms, 1/5)\n",
    "nom_knns = fit_noms(nom_dfs)\n",
    "testset = Build_Testset4User(final_df, u_id)\n",
    "nom_movies_df = Nominator_KNN(testset, nom_knns, num_nomin=500)"
   ]
  },
  {
   "cell_type": "code",
   "execution_count": 44,
   "metadata": {
    "id": "0c5uHAteWkY9",
    "outputId": "4401e312-885b-4c7e-a88b-8e53513a3a57"
   },
   "outputs": [
    {
     "name": "stdout",
     "output_type": "stream",
     "text": [
      "Ranker has been trained\n",
      "KNNBasic/SVD - RMSE: 0.45117106133882995\n",
      "KNNBasic/SVD - MAE: 0.34666435392468176\n",
      "CPU times: user 15.7 s, sys: 11.2 s, total: 26.9 s\n",
      "Wall time: 36.3 s\n"
     ]
    }
   ],
   "source": [
    "%%time\n",
    "#return top 10 recommended movies by predicted average rating\n",
    "ranker_svd, ranker_trainset_svd = fit_ranker_SVD(nom_movies_df)\n",
    "res_svd = Rank_SVD(num_recommend=10)\n",
    "ranker_testset_svd = ranker_trainset_svd.build_anti_testset()\n",
    "predictions_svd = ranker_svd.test(ranker_testset_svd)\n",
    "print('KNNBasic/SVD - RMSE:', accuracy.rmse(predictions_svd, verbose=False))\n",
    "print('KNNBasic/SVD - MAE:', accuracy.mae(predictions_svd, verbose=False))"
   ]
  },
  {
   "cell_type": "markdown",
   "metadata": {
    "id": "5i4NXjAJWkY9"
   },
   "source": [
    "#### SVD++ Ranker:"
   ]
  },
  {
   "cell_type": "code",
   "execution_count": 28,
   "metadata": {
    "id": "DDEBvEjAWkY-"
   },
   "outputs": [],
   "source": [
    "#create and train an SVD Ranker stage \n",
    "from surprise import SVDpp\n",
    "\n",
    "def fit_ranker_SVDpp(nom_movies_df):   #takes output of nominator stage as a df\n",
    "    reader = Reader(rating_scale=(1, 5))\n",
    "    ranker_dataset = Dataset.load_from_df(nom_movies_df[['userId', 'movieId', 'rating']], reader=reader)\n",
    "    global ranker_svdpp\n",
    "    ranker_svdpp = SVDpp(n_factors=50)\n",
    "    ranker_trainset = ranker_dataset.build_full_trainset()\n",
    "    ranker_svdpp.fit(ranker_trainset)\n",
    "    print('Ranker has been trained')\n",
    "    return ranker_svdpp, ranker_trainset\n",
    "\n",
    "\n",
    "def Rank_SVDpp(num_recommend=10, latest=False):\n",
    "    \n",
    "    testset = Build_Testset4User(final_df, user_id)\n",
    "    predict = ranker_svdpp.test(testset)  \n",
    "    \n",
    "    recommendation = list()\n",
    "    for userID, movieID, actualRating, estimatedRating, _ in predict:\n",
    "        intMovieID = int(movieID)\n",
    "        recommendation.append((intMovieID, estimatedRating))\n",
    "        \n",
    "    recommendation.sort(key=lambda x: x[1], reverse=True)\n",
    "    \n",
    "    id_2_names = dict()\n",
    "    for idx, names in zip(movies['movieId'], movies['movie_names']):\n",
    "        id_2_names[idx] = names\n",
    "    \n",
    "    movie_names, movie_ratings = [], []\n",
    "    for name, ratings in recommendation[:20]:\n",
    "        movie_names.append(id_2_names[name])\n",
    "        movie_ratings.append(ratings)\n",
    "        \n",
    "    movie_dataframe =  pd.DataFrame({'movie_names': movie_names,\n",
    "                                     'rating': movie_ratings}).merge(movies[['movie_names', 'release_year']],\n",
    "                                            on='movie_names', how='left')\n",
    "    \n",
    "    if latest == True:\n",
    "        return movie_dataframe.sort_values('release_year', ascending=False)[['movie_names', 'rating']].head(num_recommend)\n",
    "    \n",
    "    else:\n",
    "        return movie_dataframe.drop('release_year', axis=1).head(num_recommend)\n",
    "\n"
   ]
  },
  {
   "cell_type": "code",
   "execution_count": 49,
   "metadata": {
    "id": "ur0_wSufWkY-",
    "outputId": "2e4900c7-ca35-4637-bba1-2f0d2efc6c42"
   },
   "outputs": [
    {
     "name": "stdout",
     "output_type": "stream",
     "text": [
      "Ranker has been trained\n",
      "KNNBasic/SVDpp - RMSE: 0.4684584732705012\n",
      "KNNBasic/SVDpp - MAE: 0.3603568878186442\n",
      "CPU times: user 36.3 s, sys: 1.64 s, total: 38 s\n",
      "Wall time: 42.4 s\n"
     ]
    }
   ],
   "source": [
    "%%time\n",
    "ranker_svdpp, ranker_trainset_svdpp = fit_ranker_SVDpp(nom_movies_df)\n",
    "res_svdpp = Rank_SVDpp(num_recommend=10)\n",
    "ranker_testset_svdpp = ranker_trainset_svdpp.build_anti_testset()\n",
    "predictions_svdpp = ranker_svdpp.test(ranker_testset_svdpp)\n",
    "print('KNNBasic/SVDpp - RMSE:', accuracy.rmse(predictions_svdpp, verbose=False))\n",
    "print('KNNBasic/SVDpp - MAE:', accuracy.mae(predictions_svdpp, verbose=False))"
   ]
  },
  {
   "cell_type": "markdown",
   "metadata": {},
   "source": [
    "### NMF Ranker:"
   ]
  },
  {
   "cell_type": "code",
   "execution_count": 50,
   "metadata": {},
   "outputs": [],
   "source": [
    "#create and train an NMF Ranker stage \n",
    "from surprise import NMF\n",
    "\n",
    "def fit_ranker_NMF(nom_movies_df):   #takes output of nominator stage as a df\n",
    "    reader = Reader(rating_scale=(1, 5))\n",
    "    ranker_dataset = Dataset.load_from_df(nom_movies_df[['userId', 'movieId', 'rating']], reader=reader)\n",
    "    global ranker_nmf\n",
    "    ranker_nmf = NMF(n_factors=50)\n",
    "    ranker_trainset = ranker_dataset.build_full_trainset()\n",
    "    ranker_nmf.fit(ranker_trainset)\n",
    "    print('Ranker has been trained')\n",
    "    return ranker_nmf, ranker_trainset\n",
    "\n",
    "\n",
    "def Rank_NMF(num_recommend=10, latest=False):\n",
    "    \n",
    "    testset = Build_Testset4User(final_df, user_id)\n",
    "    predict = ranker_nmf.test(testset)  \n",
    "    \n",
    "    recommendation = list()\n",
    "    for userID, movieID, actualRating, estimatedRating, _ in predict:\n",
    "        intMovieID = int(movieID)\n",
    "        recommendation.append((intMovieID, estimatedRating))\n",
    "        \n",
    "    recommendation.sort(key=lambda x: x[1], reverse=True)\n",
    "    \n",
    "    id_2_names = dict()\n",
    "    for idx, names in zip(movies['movieId'], movies['movie_names']):\n",
    "        id_2_names[idx] = names\n",
    "    \n",
    "    movie_names, movie_ratings = [], []\n",
    "    for name, ratings in recommendation[:20]:\n",
    "        movie_names.append(id_2_names[name])\n",
    "        movie_ratings.append(ratings)\n",
    "        \n",
    "    movie_dataframe =  pd.DataFrame({'movie_names': movie_names,\n",
    "                                     'rating': movie_ratings}).merge(movies[['movie_names', 'release_year']],\n",
    "                                            on='movie_names', how='left')\n",
    "    \n",
    "    if latest == True:\n",
    "        return movie_dataframe.sort_values('release_year', ascending=False)[['movie_names', 'rating']].head(num_recommend)\n",
    "    \n",
    "    else:\n",
    "        return movie_dataframe.drop('release_year', axis=1).head(num_recommend)"
   ]
  },
  {
   "cell_type": "code",
   "execution_count": 51,
   "metadata": {},
   "outputs": [
    {
     "name": "stdout",
     "output_type": "stream",
     "text": [
      "Ranker has been trained\n",
      "KNNBasic/NMF - RMSE: 0.8427751491238175\n",
      "KNNBasic/NMF - MAE: 0.6438389811203957\n",
      "CPU times: user 14.2 s, sys: 1.53 s, total: 15.7 s\n",
      "Wall time: 17.2 s\n"
     ]
    }
   ],
   "source": [
    "%%time\n",
    "ranker_nmf, ranker_trainset_nmf = fit_ranker_NMF(nom_movies_df)\n",
    "res_nmf = Rank_NMF(num_recommend=10)\n",
    "ranker_testset_nmf = ranker_trainset_nmf.build_anti_testset()\n",
    "predictions_nmf = ranker_nmf.test(ranker_testset_nmf)\n",
    "print('KNNBasic/NMF - RMSE:', accuracy.rmse(predictions_nmf, verbose=False))\n",
    "print('KNNBasic/NMF - MAE:', accuracy.mae(predictions_nmf, verbose=False))"
   ]
  },
  {
   "cell_type": "markdown",
   "metadata": {},
   "source": [
    "### KNNBasic Ranker:"
   ]
  },
  {
   "cell_type": "code",
   "execution_count": 52,
   "metadata": {},
   "outputs": [],
   "source": [
    "#create and train an KNNBasic Ranker stage \n",
    "from surprise import KNNBasic\n",
    "\n",
    "def fit_ranker_KNN(nom_movies_df):   #takes output of nominator stage as a df\n",
    "    reader = Reader(rating_scale=(1, 5))\n",
    "    ranker_dataset = Dataset.load_from_df(nom_movies_df[['userId', 'movieId', 'rating']], reader=reader)\n",
    "    global ranker_knn\n",
    "    ranker_knn = KNNBasic(n_factors=50)\n",
    "    ranker_trainset = ranker_dataset.build_full_trainset()\n",
    "    ranker_knn.fit(ranker_trainset)\n",
    "    print('Ranker has been trained')\n",
    "    return ranker_knn, ranker_trainset\n",
    "\n",
    "\n",
    "def Rank_KNN(num_recommend=10, latest=False):\n",
    "    \n",
    "    testset = Build_Testset4User(final_df, user_id)\n",
    "    predict = ranker_knn.test(testset)  \n",
    "    \n",
    "    recommendation = list()\n",
    "    for userID, movieID, actualRating, estimatedRating, _ in predict:\n",
    "        intMovieID = int(movieID)\n",
    "        recommendation.append((intMovieID, estimatedRating))\n",
    "        \n",
    "    recommendation.sort(key=lambda x: x[1], reverse=True)\n",
    "    \n",
    "    id_2_names = dict()\n",
    "    for idx, names in zip(movies['movieId'], movies['movie_names']):\n",
    "        id_2_names[idx] = names\n",
    "    \n",
    "    movie_names, movie_ratings = [], []\n",
    "    for name, ratings in recommendation[:20]:\n",
    "        movie_names.append(id_2_names[name])\n",
    "        movie_ratings.append(ratings)\n",
    "        \n",
    "    movie_dataframe =  pd.DataFrame({'movie_names': movie_names,\n",
    "                                     'rating': movie_ratings}).merge(movies[['movie_names', 'release_year']],\n",
    "                                            on='movie_names', how='left')\n",
    "    \n",
    "    if latest == True:\n",
    "        return movie_dataframe.sort_values('release_year', ascending=False)[['movie_names', 'rating']].head(num_recommend)\n",
    "    \n",
    "    else:\n",
    "        return movie_dataframe.drop('release_year', axis=1).head(num_recommend)"
   ]
  },
  {
   "cell_type": "code",
   "execution_count": 54,
   "metadata": {},
   "outputs": [
    {
     "name": "stdout",
     "output_type": "stream",
     "text": [
      "Computing the msd similarity matrix...\n",
      "Done computing similarity matrix.\n",
      "Ranker has been trained\n",
      "KNNBasic/KNNBasic - RMSE: 0.7617291553875398\n",
      "KNNBasic/KNNBasic - MAE: 0.5489114922496527\n",
      "CPU times: user 1min 21s, sys: 3.9 s, total: 1min 25s\n",
      "Wall time: 1min 33s\n"
     ]
    }
   ],
   "source": [
    "%%time\n",
    "ranker_knn, ranker_trainset_knn = fit_ranker_KNN(nom_movies_df)\n",
    "res_knn = Rank_KNN(num_recommend=10)\n",
    "ranker_testset_knn = ranker_trainset_knn.build_anti_testset()\n",
    "predictions_knn = ranker_knn.test(ranker_testset_knn)\n",
    "print('KNNBasic/KNNBasic - RMSE:', accuracy.rmse(predictions_knn, verbose=False))\n",
    "print('KNNBasic/KNNBasic - MAE:', accuracy.mae(predictions_knn, verbose=False))"
   ]
  },
  {
   "cell_type": "markdown",
   "metadata": {},
   "source": [
    "### KNN with Means Ranker:"
   ]
  },
  {
   "cell_type": "code",
   "execution_count": 55,
   "metadata": {},
   "outputs": [],
   "source": [
    "#create and train an KNN With Means Ranker stage \n",
    "from surprise import KNNWithMeans\n",
    "\n",
    "def fit_ranker_KNNWM(nom_movies_df):   #takes output of nominator stage as a df\n",
    "    reader = Reader(rating_scale=(1, 5))\n",
    "    ranker_dataset = Dataset.load_from_df(nom_movies_df[['userId', 'movieId', 'rating']], reader=reader)\n",
    "    global ranker_knnwm\n",
    "    ranker_knnwm = KNNWithMeans(n_factors=50)\n",
    "    ranker_trainset = ranker_dataset.build_full_trainset()\n",
    "    ranker_knnwm.fit(ranker_trainset)\n",
    "    print('Ranker has been trained')\n",
    "    return ranker_knnwm, ranker_trainset\n",
    "\n",
    "\n",
    "def Rank_KNNWM(num_recommend=10, latest=False):\n",
    "    \n",
    "    testset = Build_Testset4User(final_df, user_id)\n",
    "    predict = ranker_knnwm.test(testset)  \n",
    "    \n",
    "    recommendation = list()\n",
    "    for userID, movieID, actualRating, estimatedRating, _ in predict:\n",
    "        intMovieID = int(movieID)\n",
    "        recommendation.append((intMovieID, estimatedRating))\n",
    "        \n",
    "    recommendation.sort(key=lambda x: x[1], reverse=True)\n",
    "    \n",
    "    id_2_names = dict()\n",
    "    for idx, names in zip(movies['movieId'], movies['movie_names']):\n",
    "        id_2_names[idx] = names\n",
    "    \n",
    "    movie_names, movie_ratings = [], []\n",
    "    for name, ratings in recommendation[:20]:\n",
    "        movie_names.append(id_2_names[name])\n",
    "        movie_ratings.append(ratings)\n",
    "        \n",
    "    movie_dataframe =  pd.DataFrame({'movie_names': movie_names,\n",
    "                                     'rating': movie_ratings}).merge(movies[['movie_names', 'release_year']],\n",
    "                                            on='movie_names', how='left')\n",
    "    \n",
    "    if latest == True:\n",
    "        return movie_dataframe.sort_values('release_year', ascending=False)[['movie_names', 'rating']].head(num_recommend)\n",
    "    \n",
    "    else:\n",
    "        return movie_dataframe.drop('release_year', axis=1).head(num_recommend)"
   ]
  },
  {
   "cell_type": "code",
   "execution_count": 56,
   "metadata": {},
   "outputs": [
    {
     "name": "stdout",
     "output_type": "stream",
     "text": [
      "Computing the msd similarity matrix...\n",
      "Done computing similarity matrix.\n",
      "Ranker has been trained\n",
      "KNNBasic/KNNWM - RMSE: 0.8610385706961676\n",
      "KNNBasic/KNNWM - MAE: 0.6343361568982232\n",
      "CPU times: user 1min 13s, sys: 2.88 s, total: 1min 16s\n",
      "Wall time: 1min 21s\n"
     ]
    }
   ],
   "source": [
    "%%time\n",
    "ranker_knnwm, ranker_trainset_knnwm = fit_ranker_KNNWM(nom_movies_df)\n",
    "res_knnwm = Rank_KNNWM(num_recommend=10)\n",
    "ranker_testset_knnwm = ranker_trainset_knnwm.build_anti_testset()\n",
    "predictions_knnwm = ranker_knnwm.test(ranker_testset_knnwm)\n",
    "print('KNNBasic/KNNWM - RMSE:', accuracy.rmse(predictions_knnwm, verbose=False))\n",
    "print('KNNBasic/KNNWM - MAE:', accuracy.mae(predictions_knnwm, verbose=False))"
   ]
  },
  {
   "cell_type": "markdown",
   "metadata": {},
   "source": [
    "### KNN with ZScore Ranker:"
   ]
  },
  {
   "cell_type": "code",
   "execution_count": 57,
   "metadata": {},
   "outputs": [],
   "source": [
    "#create and train an KNN With ZScore Ranker stage \n",
    "from surprise import KNNWithZScore\n",
    "\n",
    "def fit_ranker_KNNZS(nom_movies_df):   #takes output of nominator stage as a df\n",
    "    reader = Reader(rating_scale=(1, 5))\n",
    "    ranker_dataset = Dataset.load_from_df(nom_movies_df[['userId', 'movieId', 'rating']], reader=reader)\n",
    "    global ranker_knnzs\n",
    "    ranker_knnzs = KNNWithZScore(n_factors=50)\n",
    "    ranker_trainset = ranker_dataset.build_full_trainset()\n",
    "    ranker_knnzs.fit(ranker_trainset)\n",
    "    print('Ranker has been trained')\n",
    "    return ranker_knnwm, ranker_trainset\n",
    "\n",
    "\n",
    "def Rank_KNNZS(num_recommend=10, latest=False):\n",
    "    \n",
    "    testset = Build_Testset4User(final_df, user_id)\n",
    "    predict = ranker_knnzs.test(testset)  \n",
    "    \n",
    "    recommendation = list()\n",
    "    for userID, movieID, actualRating, estimatedRating, _ in predict:\n",
    "        intMovieID = int(movieID)\n",
    "        recommendation.append((intMovieID, estimatedRating))\n",
    "        \n",
    "    recommendation.sort(key=lambda x: x[1], reverse=True)\n",
    "    \n",
    "    id_2_names = dict()\n",
    "    for idx, names in zip(movies['movieId'], movies['movie_names']):\n",
    "        id_2_names[idx] = names\n",
    "    \n",
    "    movie_names, movie_ratings = [], []\n",
    "    for name, ratings in recommendation[:20]:\n",
    "        movie_names.append(id_2_names[name])\n",
    "        movie_ratings.append(ratings)\n",
    "        \n",
    "    movie_dataframe =  pd.DataFrame({'movie_names': movie_names,\n",
    "                                     'rating': movie_ratings}).merge(movies[['movie_names', 'release_year']],\n",
    "                                            on='movie_names', how='left')\n",
    "    \n",
    "    if latest == True:\n",
    "        return movie_dataframe.sort_values('release_year', ascending=False)[['movie_names', 'rating']].head(num_recommend)\n",
    "    \n",
    "    else:\n",
    "        return movie_dataframe.drop('release_year', axis=1).head(num_recommend)"
   ]
  },
  {
   "cell_type": "code",
   "execution_count": 59,
   "metadata": {},
   "outputs": [
    {
     "name": "stdout",
     "output_type": "stream",
     "text": [
      "Computing the msd similarity matrix...\n",
      "Done computing similarity matrix.\n",
      "Ranker has been trained\n",
      "KNNBasic/KNNZS - RMSE: 0.8610385706961676\n",
      "KNNBasic/KNNZS - MAE: 0.6343361568982232\n",
      "CPU times: user 1min 22s, sys: 2.24 s, total: 1min 25s\n",
      "Wall time: 1min 34s\n"
     ]
    }
   ],
   "source": [
    "%%time\n",
    "ranker_knnzs, ranker_trainset_knnzs = fit_ranker_KNNZS(nom_movies_df)\n",
    "res_knnzs = Rank_KNNZS(num_recommend=10)\n",
    "ranker_testset_knnzs = ranker_trainset_knnzs.build_anti_testset()\n",
    "predictions_knnzs = ranker_knnzs.test(ranker_testset_knnzs)\n",
    "print('KNNBasic/KNNZS - RMSE:', accuracy.rmse(predictions_knnzs, verbose=False))\n",
    "print('KNNBasic/KNNZS - MAE:', accuracy.mae(predictions_knnzs, verbose=False))"
   ]
  },
  {
   "cell_type": "markdown",
   "metadata": {},
   "source": [
    "### KNNBaseline Ranker:"
   ]
  },
  {
   "cell_type": "code",
   "execution_count": 60,
   "metadata": {},
   "outputs": [],
   "source": [
    "#create and train an KNN Baseline Ranker stage \n",
    "from surprise import KNNBaseline\n",
    "\n",
    "def fit_ranker_KNNBL(nom_movies_df):   #takes output of nominator stage as a df\n",
    "    reader = Reader(rating_scale=(1, 5))\n",
    "    ranker_dataset = Dataset.load_from_df(nom_movies_df[['userId', 'movieId', 'rating']], reader=reader)\n",
    "    global ranker_knnbl\n",
    "    ranker_knnbl = KNNBaseline(n_factors=50)\n",
    "    ranker_trainset = ranker_dataset.build_full_trainset()\n",
    "    ranker_knnbl.fit(ranker_trainset)\n",
    "    print('Ranker has been trained')\n",
    "    return ranker_knnbl, ranker_trainset\n",
    "\n",
    "\n",
    "def Rank_KNNBL(num_recommend=10, latest=False):\n",
    "    \n",
    "    testset = Build_Testset4User(final_df, user_id)\n",
    "    predict = ranker_knnbl.test(testset)  \n",
    "    \n",
    "    recommendation = list()\n",
    "    for userID, movieID, actualRating, estimatedRating, _ in predict:\n",
    "        intMovieID = int(movieID)\n",
    "        recommendation.append((intMovieID, estimatedRating))\n",
    "        \n",
    "    recommendation.sort(key=lambda x: x[1], reverse=True)\n",
    "    \n",
    "    id_2_names = dict()\n",
    "    for idx, names in zip(movies['movieId'], movies['movie_names']):\n",
    "        id_2_names[idx] = names\n",
    "    \n",
    "    movie_names, movie_ratings = [], []\n",
    "    for name, ratings in recommendation[:20]:\n",
    "        movie_names.append(id_2_names[name])\n",
    "        movie_ratings.append(ratings)\n",
    "        \n",
    "    movie_dataframe =  pd.DataFrame({'movie_names': movie_names,\n",
    "                                     'rating': movie_ratings}).merge(movies[['movie_names', 'release_year']],\n",
    "                                            on='movie_names', how='left')\n",
    "    \n",
    "    if latest == True:\n",
    "        return movie_dataframe.sort_values('release_year', ascending=False)[['movie_names', 'rating']].head(num_recommend)\n",
    "    \n",
    "    else:\n",
    "        return movie_dataframe.drop('release_year', axis=1).head(num_recommend)"
   ]
  },
  {
   "cell_type": "code",
   "execution_count": 61,
   "metadata": {},
   "outputs": [
    {
     "name": "stdout",
     "output_type": "stream",
     "text": [
      "Estimating biases using als...\n",
      "Computing the msd similarity matrix...\n",
      "Done computing similarity matrix.\n",
      "Ranker has been trained\n",
      "KNNBasic/KNNBL - RMSE: 0.7104599984272624\n",
      "KNNBasic/KNNBL - MAE: 0.5209843842687514\n",
      "CPU times: user 1min 25s, sys: 7.18 s, total: 1min 32s\n",
      "Wall time: 1min 43s\n"
     ]
    }
   ],
   "source": [
    "%%time\n",
    "ranker_knnbl, ranker_trainset_knnbl = fit_ranker_KNNBL(nom_movies_df)\n",
    "res_knnbl = Rank_KNNBL(num_recommend=10)\n",
    "ranker_testset_knnbl = ranker_trainset_knnbl.build_anti_testset()\n",
    "predictions_knnbl = ranker_knnbl.test(ranker_testset_knnbl)\n",
    "print('KNNBasic/KNNBL - RMSE:', accuracy.rmse(predictions_knnbl, verbose=False))\n",
    "print('KNNBasic/KNNBL - MAE:', accuracy.mae(predictions_knnbl, verbose=False))"
   ]
  },
  {
   "cell_type": "markdown",
   "metadata": {},
   "source": [
    "### SlopeOne Ranker:"
   ]
  },
  {
   "cell_type": "code",
   "execution_count": 63,
   "metadata": {},
   "outputs": [],
   "source": [
    "#create and train an SlopeOne Ranker stage \n",
    "from surprise import SlopeOne\n",
    "\n",
    "def fit_ranker_SO(nom_movies_df):   #takes output of nominator stage as a df\n",
    "    reader = Reader(rating_scale=(1, 5))\n",
    "    ranker_dataset = Dataset.load_from_df(nom_movies_df[['userId', 'movieId', 'rating']], reader=reader)\n",
    "    global ranker_so\n",
    "    ranker_so = SlopeOne()\n",
    "    ranker_trainset = ranker_dataset.build_full_trainset()\n",
    "    ranker_so.fit(ranker_trainset)\n",
    "    print('Ranker has been trained')\n",
    "    return ranker_so, ranker_trainset\n",
    "\n",
    "\n",
    "def Rank_SO(num_recommend=10, latest=False):\n",
    "    \n",
    "    testset = Build_Testset4User(final_df, user_id)\n",
    "    predict = ranker_so.test(testset)  \n",
    "    \n",
    "    recommendation = list()\n",
    "    for userID, movieID, actualRating, estimatedRating, _ in predict:\n",
    "        intMovieID = int(movieID)\n",
    "        recommendation.append((intMovieID, estimatedRating))\n",
    "        \n",
    "    recommendation.sort(key=lambda x: x[1], reverse=True)\n",
    "    \n",
    "    id_2_names = dict()\n",
    "    for idx, names in zip(movies['movieId'], movies['movie_names']):\n",
    "        id_2_names[idx] = names\n",
    "    \n",
    "    movie_names, movie_ratings = [], []\n",
    "    for name, ratings in recommendation[:20]:\n",
    "        movie_names.append(id_2_names[name])\n",
    "        movie_ratings.append(ratings)\n",
    "        \n",
    "    movie_dataframe =  pd.DataFrame({'movie_names': movie_names,\n",
    "                                     'rating': movie_ratings}).merge(movies[['movie_names', 'release_year']],\n",
    "                                            on='movie_names', how='left')\n",
    "    \n",
    "    if latest == True:\n",
    "        return movie_dataframe.sort_values('release_year', ascending=False)[['movie_names', 'rating']].head(num_recommend)\n",
    "    \n",
    "    else:\n",
    "        return movie_dataframe.drop('release_year', axis=1).head(num_recommend)"
   ]
  },
  {
   "cell_type": "code",
   "execution_count": 65,
   "metadata": {},
   "outputs": [
    {
     "name": "stdout",
     "output_type": "stream",
     "text": [
      "Ranker has been trained\n",
      "KNNBasic/SO - RMSE: 1.0000093128965781\n",
      "KNNBasic/SO - MAE: 0.7491493367396678\n",
      "CPU times: user 14.2 s, sys: 3.9 s, total: 18.1 s\n",
      "Wall time: 19.6 s\n"
     ]
    }
   ],
   "source": [
    "%%time\n",
    "ranker_so, ranker_trainset_so = fit_ranker_SO(nom_movies_df)\n",
    "res_so = Rank_SO(num_recommend=10)\n",
    "ranker_testset_so = ranker_trainset_so.build_anti_testset()\n",
    "predictions_so = ranker_so.test(ranker_testset_so)\n",
    "print('KNNBasic/SO - RMSE:', accuracy.rmse(predictions_so, verbose=False))\n",
    "print('KNNBasic/SO - MAE:', accuracy.mae(predictions_so, verbose=False))"
   ]
  },
  {
   "cell_type": "markdown",
   "metadata": {},
   "source": [
    "### CoClustering Ranker:"
   ]
  },
  {
   "cell_type": "code",
   "execution_count": 66,
   "metadata": {},
   "outputs": [],
   "source": [
    "#create and train an CoClustering Ranker stage \n",
    "from surprise import CoClustering\n",
    "\n",
    "def fit_ranker_CC(nom_movies_df):   #takes output of nominator stage as a df\n",
    "    reader = Reader(rating_scale=(1, 5))\n",
    "    ranker_dataset = Dataset.load_from_df(nom_movies_df[['userId', 'movieId', 'rating']], reader=reader)\n",
    "    global ranker_cc\n",
    "    ranker_cc = CoClustering()\n",
    "    ranker_trainset = ranker_dataset.build_full_trainset()\n",
    "    ranker_cc.fit(ranker_trainset)\n",
    "    print('Ranker has been trained')\n",
    "    return ranker_cc, ranker_trainset\n",
    "\n",
    "\n",
    "def Rank_CC(num_recommend=10, latest=False):\n",
    "    \n",
    "    testset = Build_Testset4User(final_df, user_id)\n",
    "    predict = ranker_cc.test(testset)  \n",
    "    \n",
    "    recommendation = list()\n",
    "    for userID, movieID, actualRating, estimatedRating, _ in predict:\n",
    "        intMovieID = int(movieID)\n",
    "        recommendation.append((intMovieID, estimatedRating))\n",
    "        \n",
    "    recommendation.sort(key=lambda x: x[1], reverse=True)\n",
    "    \n",
    "    id_2_names = dict()\n",
    "    for idx, names in zip(movies['movieId'], movies['movie_names']):\n",
    "        id_2_names[idx] = names\n",
    "    \n",
    "    movie_names, movie_ratings = [], []\n",
    "    for name, ratings in recommendation[:20]:\n",
    "        movie_names.append(id_2_names[name])\n",
    "        movie_ratings.append(ratings)\n",
    "        \n",
    "    movie_dataframe =  pd.DataFrame({'movie_names': movie_names,\n",
    "                                     'rating': movie_ratings}).merge(movies[['movie_names', 'release_year']],\n",
    "                                            on='movie_names', how='left')\n",
    "    \n",
    "    if latest == True:\n",
    "        return movie_dataframe.sort_values('release_year', ascending=False)[['movie_names', 'rating']].head(num_recommend)\n",
    "    \n",
    "    else:\n",
    "        return movie_dataframe.drop('release_year', axis=1).head(num_recommend)"
   ]
  },
  {
   "cell_type": "code",
   "execution_count": 67,
   "metadata": {},
   "outputs": [
    {
     "name": "stdout",
     "output_type": "stream",
     "text": [
      "Ranker has been trained\n",
      "KNNBasic/CC - RMSE: 0.9491439142210314\n",
      "KNNBasic/CC - MAE: 0.7147106648730456\n",
      "CPU times: user 8.72 s, sys: 452 ms, total: 9.17 s\n",
      "Wall time: 9.49 s\n"
     ]
    }
   ],
   "source": [
    "%%time\n",
    "ranker_cc, ranker_trainset_cc = fit_ranker_CC(nom_movies_df)\n",
    "res_cc = Rank_CC(num_recommend=10)\n",
    "ranker_testset_cc = ranker_trainset_cc.build_anti_testset()\n",
    "predictions_cc = ranker_cc.test(ranker_testset_cc)\n",
    "print('KNNBasic/CC - RMSE:', accuracy.rmse(predictions_cc, verbose=False))\n",
    "print('KNNBasic/CC - MAE:', accuracy.mae(predictions_cc, verbose=False))"
   ]
  },
  {
   "cell_type": "markdown",
   "metadata": {
    "id": "0GrBz9HIWkY-"
   },
   "source": [
    "### Below is the baseline of a single stage"
   ]
  },
  {
   "cell_type": "code",
   "execution_count": 68,
   "metadata": {
    "id": "BV2L5o_s_zdm",
    "outputId": "7862bea2-9f30-4877-a990-903de8d2c35b"
   },
   "outputs": [
    {
     "name": "stdout",
     "output_type": "stream",
     "text": [
      "Computing the msd similarity matrix...\n",
      "Done computing similarity matrix.\n",
      "KNN - RMSE: 0.7612654931634538\n",
      "KNN - MAE: 0.5800607958862584\n",
      "CPU times: user 1h 30min 51s, sys: 2min 58s, total: 1h 33min 49s\n",
      "Wall time: 1h 46min 26s\n"
     ]
    }
   ],
   "source": [
    "%%time\n",
    "knnss=KNNBasic(k=40)\n",
    "reader = Reader(rating_scale=(1, 5))\n",
    "dataset = Dataset.load_from_df(final_df[['userId', 'movieId', 'rating']], reader=reader)\n",
    "trainset = dataset.build_full_trainset()\n",
    "knnss.fit(trainset)\n",
    "testset = trainset.build_anti_testset()\n",
    "predictions_knnss = knnss.test(testset)\n",
    "print('KNN - RMSE:', accuracy.rmse(predictions_knnss, verbose=False))\n",
    "print('KNN - MAE:', accuracy.mae(predictions_knnss, verbose=False))"
   ]
  },
  {
   "cell_type": "code",
   "execution_count": null,
   "metadata": {},
   "outputs": [],
   "source": []
  }
 ],
 "metadata": {
  "colab": {
   "name": "Two_Stage_Recommender_System_SVD.ipynb",
   "provenance": []
  },
  "kernelspec": {
   "display_name": "Python 3 (ipykernel)",
   "language": "python",
   "name": "python3"
  },
  "language_info": {
   "codemirror_mode": {
    "name": "ipython",
    "version": 3
   },
   "file_extension": ".py",
   "mimetype": "text/x-python",
   "name": "python",
   "nbconvert_exporter": "python",
   "pygments_lexer": "ipython3",
   "version": "3.9.2"
  }
 },
 "nbformat": 4,
 "nbformat_minor": 1
}
